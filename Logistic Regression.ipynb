{
 "cells": [
  {
   "cell_type": "markdown",
   "id": "15ae99e8",
   "metadata": {},
   "source": [
    "# Predict Titanic Survival"
   ]
  },
  {
   "cell_type": "markdown",
   "id": "37d9bed7",
   "metadata": {},
   "source": [
    "The RMS Titanic set sail on its maiden voyage in 1912, crossing the Atlantic from Southampton, England to New York City. The ship never completed the voyage, sinking to the bottom of the Atlantic Ocean after hitting an iceberg, bringing down 1,502 of 2,224 passengers onboard."
   ]
  },
  {
   "cell_type": "code",
   "execution_count": 2,
   "id": "db59defb",
   "metadata": {},
   "outputs": [],
   "source": [
    "import pandas as pd\n",
    "import numpy as np\n",
    "import matplotlib.pyplot as plt\n",
    "from sklearn.linear_model import LogisticRegression\n",
    "from sklearn.model_selection import train_test_split\n",
    "from sklearn.preprocessing import StandardScaler"
   ]
  },
  {
   "cell_type": "code",
   "execution_count": 74,
   "id": "d8792e5b",
   "metadata": {},
   "outputs": [
    {
     "data": {
      "text/html": [
       "<div>\n",
       "<style scoped>\n",
       "    .dataframe tbody tr th:only-of-type {\n",
       "        vertical-align: middle;\n",
       "    }\n",
       "\n",
       "    .dataframe tbody tr th {\n",
       "        vertical-align: top;\n",
       "    }\n",
       "\n",
       "    .dataframe thead th {\n",
       "        text-align: right;\n",
       "    }\n",
       "</style>\n",
       "<table border=\"1\" class=\"dataframe\">\n",
       "  <thead>\n",
       "    <tr style=\"text-align: right;\">\n",
       "      <th></th>\n",
       "      <th>PassengerId</th>\n",
       "      <th>Survived</th>\n",
       "      <th>Pclass</th>\n",
       "      <th>Name</th>\n",
       "      <th>Sex</th>\n",
       "      <th>Age</th>\n",
       "      <th>SibSp</th>\n",
       "      <th>Parch</th>\n",
       "      <th>Ticket</th>\n",
       "      <th>Fare</th>\n",
       "      <th>Cabin</th>\n",
       "      <th>Embarked</th>\n",
       "    </tr>\n",
       "  </thead>\n",
       "  <tbody>\n",
       "    <tr>\n",
       "      <th>0</th>\n",
       "      <td>1</td>\n",
       "      <td>0</td>\n",
       "      <td>3</td>\n",
       "      <td>Braund, Mr. Owen Harris</td>\n",
       "      <td>male</td>\n",
       "      <td>22.0</td>\n",
       "      <td>1</td>\n",
       "      <td>0</td>\n",
       "      <td>A/5 21171</td>\n",
       "      <td>7.2500</td>\n",
       "      <td>NaN</td>\n",
       "      <td>S</td>\n",
       "    </tr>\n",
       "    <tr>\n",
       "      <th>1</th>\n",
       "      <td>2</td>\n",
       "      <td>1</td>\n",
       "      <td>1</td>\n",
       "      <td>Cumings, Mrs. John Bradley (Florence Briggs Th...</td>\n",
       "      <td>female</td>\n",
       "      <td>38.0</td>\n",
       "      <td>1</td>\n",
       "      <td>0</td>\n",
       "      <td>PC 17599</td>\n",
       "      <td>71.2833</td>\n",
       "      <td>C85</td>\n",
       "      <td>C</td>\n",
       "    </tr>\n",
       "    <tr>\n",
       "      <th>2</th>\n",
       "      <td>3</td>\n",
       "      <td>1</td>\n",
       "      <td>3</td>\n",
       "      <td>Heikkinen, Miss. Laina</td>\n",
       "      <td>female</td>\n",
       "      <td>26.0</td>\n",
       "      <td>0</td>\n",
       "      <td>0</td>\n",
       "      <td>STON/O2. 3101282</td>\n",
       "      <td>7.9250</td>\n",
       "      <td>NaN</td>\n",
       "      <td>S</td>\n",
       "    </tr>\n",
       "    <tr>\n",
       "      <th>3</th>\n",
       "      <td>4</td>\n",
       "      <td>1</td>\n",
       "      <td>1</td>\n",
       "      <td>Futrelle, Mrs. Jacques Heath (Lily May Peel)</td>\n",
       "      <td>female</td>\n",
       "      <td>35.0</td>\n",
       "      <td>1</td>\n",
       "      <td>0</td>\n",
       "      <td>113803</td>\n",
       "      <td>53.1000</td>\n",
       "      <td>C123</td>\n",
       "      <td>S</td>\n",
       "    </tr>\n",
       "    <tr>\n",
       "      <th>4</th>\n",
       "      <td>5</td>\n",
       "      <td>0</td>\n",
       "      <td>3</td>\n",
       "      <td>Allen, Mr. William Henry</td>\n",
       "      <td>male</td>\n",
       "      <td>35.0</td>\n",
       "      <td>0</td>\n",
       "      <td>0</td>\n",
       "      <td>373450</td>\n",
       "      <td>8.0500</td>\n",
       "      <td>NaN</td>\n",
       "      <td>S</td>\n",
       "    </tr>\n",
       "  </tbody>\n",
       "</table>\n",
       "</div>"
      ],
      "text/plain": [
       "   PassengerId  Survived  Pclass  \\\n",
       "0            1         0       3   \n",
       "1            2         1       1   \n",
       "2            3         1       3   \n",
       "3            4         1       1   \n",
       "4            5         0       3   \n",
       "\n",
       "                                                Name     Sex   Age  SibSp  \\\n",
       "0                            Braund, Mr. Owen Harris    male  22.0      1   \n",
       "1  Cumings, Mrs. John Bradley (Florence Briggs Th...  female  38.0      1   \n",
       "2                             Heikkinen, Miss. Laina  female  26.0      0   \n",
       "3       Futrelle, Mrs. Jacques Heath (Lily May Peel)  female  35.0      1   \n",
       "4                           Allen, Mr. William Henry    male  35.0      0   \n",
       "\n",
       "   Parch            Ticket     Fare Cabin Embarked  \n",
       "0      0         A/5 21171   7.2500   NaN        S  \n",
       "1      0          PC 17599  71.2833   C85        C  \n",
       "2      0  STON/O2. 3101282   7.9250   NaN        S  \n",
       "3      0            113803  53.1000  C123        S  \n",
       "4      0            373450   8.0500   NaN        S  "
      ]
     },
     "execution_count": 74,
     "metadata": {},
     "output_type": "execute_result"
    }
   ],
   "source": [
    "dataset = pd.read_csv(\"passengers.csv\")\n",
    "dataset.head()"
   ]
  },
  {
   "cell_type": "markdown",
   "id": "18860e93",
   "metadata": {},
   "source": [
    "## Clean Data"
   ]
  },
  {
   "cell_type": "code",
   "execution_count": 84,
   "id": "e5edc951",
   "metadata": {},
   "outputs": [
    {
     "name": "stdout",
     "output_type": "stream",
     "text": [
      "0      1\n",
      "1      0\n",
      "2      0\n",
      "3      0\n",
      "4      1\n",
      "      ..\n",
      "886    1\n",
      "887    0\n",
      "888    0\n",
      "889    1\n",
      "890    1\n",
      "Name: Sex, Length: 891, dtype: int64\n"
     ]
    }
   ],
   "source": [
    "dataset['Sex'] = dataset['Sex'].map({'male' : 1,\n",
    "                   'female' : 0})\n",
    "print(dataset['Sex'])"
   ]
  },
  {
   "cell_type": "code",
   "execution_count": 75,
   "id": "04709139",
   "metadata": {},
   "outputs": [
    {
     "name": "stdout",
     "output_type": "stream",
     "text": [
      "[22.   38.   26.   35.   35.     nan 54.    2.   27.   14.    4.   58.\n",
      " 20.   39.   14.   55.    2.     nan 31.     nan 35.   34.   15.   28.\n",
      "  8.   38.     nan 19.     nan   nan 40.     nan   nan 66.   28.   42.\n",
      "   nan 21.   18.   14.   40.   27.     nan  3.   19.     nan   nan   nan\n",
      "   nan 18.    7.   21.   49.   29.   65.     nan 21.   28.5   5.   11.\n",
      " 22.   38.   45.    4.     nan   nan 29.   19.   17.   26.   32.   16.\n",
      " 21.   26.   32.   25.     nan   nan  0.83 30.   22.   29.     nan 28.\n",
      " 17.   33.   16.     nan 23.   24.   29.   20.   46.   26.   59.     nan\n",
      " 71.   23.   34.   34.   28.     nan 21.   33.   37.   28.   21.     nan\n",
      " 38.     nan 47.   14.5  22.   20.   17.   21.   70.5  29.   24.    2.\n",
      " 21.     nan 32.5  32.5  54.   12.     nan 24.     nan 45.   33.   20.\n",
      " 47.   29.   25.   23.   19.   37.   16.   24.     nan 22.   24.   19.\n",
      " 18.   19.   27.    9.   36.5  42.   51.   22.   55.5  40.5    nan 51.\n",
      " 16.   30.     nan   nan 44.   40.   26.   17.    1.    9.     nan 45.\n",
      "   nan 28.   61.    4.    1.   21.   56.   18.     nan 50.   30.   36.\n",
      "   nan   nan  9.    1.    4.     nan   nan 45.   40.   36.   32.   19.\n",
      " 19.    3.   44.   58.     nan 42.     nan 24.   28.     nan 34.   45.5\n",
      " 18.    2.   32.   26.   16.   40.   24.   35.   22.   30.     nan 31.\n",
      " 27.   42.   32.   30.   16.   27.   51.     nan 38.   22.   19.   20.5\n",
      " 18.     nan 35.   29.   59.    5.   24.     nan 44.    8.   19.   33.\n",
      "   nan   nan 29.   22.   30.   44.   25.   24.   37.   54.     nan 29.\n",
      " 62.   30.   41.   29.     nan 30.   35.   50.     nan  3.   52.   40.\n",
      "   nan 36.   16.   25.   58.   35.     nan 25.   41.   37.     nan 63.\n",
      " 45.     nan  7.   35.   65.   28.   16.   19.     nan 33.   30.   22.\n",
      " 42.   22.   26.   19.   36.   24.   24.     nan 23.5   2.     nan 50.\n",
      "   nan   nan 19.     nan   nan  0.92   nan 17.   30.   30.   24.   18.\n",
      " 26.   28.   43.   26.   24.   54.   31.   40.   22.   27.   30.   22.\n",
      "   nan 36.   61.   36.   31.   16.     nan 45.5  38.   16.     nan   nan\n",
      " 29.   41.   45.   45.    2.   24.   28.   25.   36.   24.   40.     nan\n",
      "  3.   42.   23.     nan 15.   25.     nan 28.   22.   38.     nan   nan\n",
      " 40.   29.   45.   35.     nan 30.   60.     nan   nan 24.   25.   18.\n",
      " 19.   22.    3.     nan 22.   27.   20.   19.   42.    1.   32.   35.\n",
      "   nan 18.    1.   36.     nan 17.   36.   21.   28.   23.   24.   22.\n",
      " 31.   46.   23.   28.   39.   26.   21.   28.   20.   34.   51.    3.\n",
      " 21.     nan   nan   nan 33.     nan 44.     nan 34.   18.   30.   10.\n",
      "   nan 21.   29.   28.   18.     nan 28.   19.     nan 32.   28.     nan\n",
      " 42.   17.   50.   14.   21.   24.   64.   31.   45.   20.   25.   28.\n",
      "   nan  4.   13.   34.    5.   52.   36.     nan 30.   49.     nan 29.\n",
      " 65.     nan 50.     nan 48.   34.   47.   48.     nan 38.     nan 56.\n",
      "   nan  0.75   nan 38.   33.   23.   22.     nan 34.   29.   22.    2.\n",
      "  9.     nan 50.   63.   25.     nan 35.   58.   30.    9.     nan 21.\n",
      " 55.   71.   21.     nan 54.     nan 25.   24.   17.   21.     nan 37.\n",
      " 16.   18.   33.     nan 28.   26.   29.     nan 36.   54.   24.   47.\n",
      " 34.     nan 36.   32.   30.   22.     nan 44.     nan 40.5  50.     nan\n",
      " 39.   23.    2.     nan 17.     nan 30.    7.   45.   30.     nan 22.\n",
      " 36.    9.   11.   32.   50.   64.   19.     nan 33.    8.   17.   27.\n",
      "   nan 22.   22.   62.   48.     nan 39.   36.     nan 40.   28.     nan\n",
      "   nan 24.   19.   29.     nan 32.   62.   53.   36.     nan 16.   19.\n",
      " 34.   39.     nan 32.   25.   39.   54.   36.     nan 18.   47.   60.\n",
      " 22.     nan 35.   52.   47.     nan 37.   36.     nan 49.     nan 49.\n",
      " 24.     nan   nan 44.   35.   36.   30.   27.   22.   40.   39.     nan\n",
      "   nan   nan 35.   24.   34.   26.    4.   26.   27.   42.   20.   21.\n",
      " 21.   61.   57.   21.   26.     nan 80.   51.   32.     nan  9.   28.\n",
      " 32.   31.   41.     nan 20.   24.    2.     nan  0.75 48.   19.   56.\n",
      "   nan 23.     nan 18.   21.     nan 18.   24.     nan 32.   23.   58.\n",
      " 50.   40.   47.   36.   20.   32.   25.     nan 43.     nan 40.   31.\n",
      " 70.   31.     nan 18.   24.5  18.   43.   36.     nan 27.   20.   14.\n",
      " 60.   25.   14.   19.   18.   15.   31.    4.     nan 25.   60.   52.\n",
      " 44.     nan 49.   42.   18.   35.   18.   25.   26.   39.   45.   42.\n",
      " 22.     nan 24.     nan 48.   29.   52.   19.   38.   27.     nan 33.\n",
      "  6.   17.   34.   50.   27.   20.   30.     nan 25.   25.   29.   11.\n",
      "   nan 23.   23.   28.5  48.   35.     nan   nan   nan 36.   21.   24.\n",
      " 31.   70.   16.   30.   19.   31.    4.    6.   33.   23.   48.    0.67\n",
      " 28.   18.   34.   33.     nan 41.   20.   36.   16.   51.     nan 30.5\n",
      "   nan 32.   24.   48.   57.     nan 54.   18.     nan  5.     nan 43.\n",
      " 13.   17.   29.     nan 25.   25.   18.    8.    1.   46.     nan 16.\n",
      "   nan   nan 25.   39.   49.   31.   30.   30.   34.   31.   11.    0.42\n",
      " 27.   31.   39.   18.   39.   33.   26.   39.   35.    6.   30.5    nan\n",
      " 23.   31.   43.   10.   52.   27.   38.   27.    2.     nan   nan  1.\n",
      "   nan 62.   15.    0.83   nan 23.   18.   39.   21.     nan 32.     nan\n",
      " 20.   16.   30.   34.5  17.   42.     nan 35.   28.     nan  4.   74.\n",
      "  9.   16.   44.   18.   45.   51.   24.     nan 41.   21.   48.     nan\n",
      " 24.   42.   27.   31.     nan  4.   26.   47.   33.   47.   28.   15.\n",
      " 20.   19.     nan 56.   25.   33.   22.   28.   25.   39.   27.   19.\n",
      "   nan 26.   32.  ]\n"
     ]
    }
   ],
   "source": [
    "print(dataset.Age.values)"
   ]
  },
  {
   "cell_type": "code",
   "execution_count": 76,
   "id": "ccb8a848",
   "metadata": {},
   "outputs": [
    {
     "data": {
      "text/plain": [
       "0      22.000000\n",
       "1      38.000000\n",
       "2      26.000000\n",
       "3      35.000000\n",
       "4      35.000000\n",
       "         ...    \n",
       "886    27.000000\n",
       "887    19.000000\n",
       "888    29.699118\n",
       "889    26.000000\n",
       "890    32.000000\n",
       "Name: Age, Length: 891, dtype: float64"
      ]
     },
     "execution_count": 76,
     "metadata": {},
     "output_type": "execute_result"
    }
   ],
   "source": [
    "dataset['Age'] = dataset['Age'].fillna(np.mean(dataset['Age']))\n",
    "dataset['Age']"
   ]
  },
  {
   "cell_type": "code",
   "execution_count": 80,
   "id": "83cf2408",
   "metadata": {},
   "outputs": [],
   "source": [
    "dataset['FirstClass'] = dataset['Pclass'].apply(lambda x: 1 if x == 1 else 0)\n"
   ]
  },
  {
   "cell_type": "code",
   "execution_count": 82,
   "id": "b769287b",
   "metadata": {},
   "outputs": [],
   "source": [
    "dataset['SecondClass'] = dataset['Pclass'].apply(lambda x: 1 if x == 2 else 0)"
   ]
  },
  {
   "cell_type": "code",
   "execution_count": 85,
   "id": "44596f65",
   "metadata": {},
   "outputs": [
    {
     "data": {
      "text/html": [
       "<div>\n",
       "<style scoped>\n",
       "    .dataframe tbody tr th:only-of-type {\n",
       "        vertical-align: middle;\n",
       "    }\n",
       "\n",
       "    .dataframe tbody tr th {\n",
       "        vertical-align: top;\n",
       "    }\n",
       "\n",
       "    .dataframe thead th {\n",
       "        text-align: right;\n",
       "    }\n",
       "</style>\n",
       "<table border=\"1\" class=\"dataframe\">\n",
       "  <thead>\n",
       "    <tr style=\"text-align: right;\">\n",
       "      <th></th>\n",
       "      <th>PassengerId</th>\n",
       "      <th>Survived</th>\n",
       "      <th>Pclass</th>\n",
       "      <th>Name</th>\n",
       "      <th>Sex</th>\n",
       "      <th>Age</th>\n",
       "      <th>SibSp</th>\n",
       "      <th>Parch</th>\n",
       "      <th>Ticket</th>\n",
       "      <th>Fare</th>\n",
       "      <th>Cabin</th>\n",
       "      <th>Embarked</th>\n",
       "      <th>FirstClass</th>\n",
       "      <th>SecondClass</th>\n",
       "    </tr>\n",
       "  </thead>\n",
       "  <tbody>\n",
       "    <tr>\n",
       "      <th>0</th>\n",
       "      <td>1</td>\n",
       "      <td>0</td>\n",
       "      <td>3</td>\n",
       "      <td>Braund, Mr. Owen Harris</td>\n",
       "      <td>1</td>\n",
       "      <td>22.0</td>\n",
       "      <td>1</td>\n",
       "      <td>0</td>\n",
       "      <td>A/5 21171</td>\n",
       "      <td>7.2500</td>\n",
       "      <td>NaN</td>\n",
       "      <td>S</td>\n",
       "      <td>0</td>\n",
       "      <td>0</td>\n",
       "    </tr>\n",
       "    <tr>\n",
       "      <th>1</th>\n",
       "      <td>2</td>\n",
       "      <td>1</td>\n",
       "      <td>1</td>\n",
       "      <td>Cumings, Mrs. John Bradley (Florence Briggs Th...</td>\n",
       "      <td>0</td>\n",
       "      <td>38.0</td>\n",
       "      <td>1</td>\n",
       "      <td>0</td>\n",
       "      <td>PC 17599</td>\n",
       "      <td>71.2833</td>\n",
       "      <td>C85</td>\n",
       "      <td>C</td>\n",
       "      <td>1</td>\n",
       "      <td>0</td>\n",
       "    </tr>\n",
       "    <tr>\n",
       "      <th>2</th>\n",
       "      <td>3</td>\n",
       "      <td>1</td>\n",
       "      <td>3</td>\n",
       "      <td>Heikkinen, Miss. Laina</td>\n",
       "      <td>0</td>\n",
       "      <td>26.0</td>\n",
       "      <td>0</td>\n",
       "      <td>0</td>\n",
       "      <td>STON/O2. 3101282</td>\n",
       "      <td>7.9250</td>\n",
       "      <td>NaN</td>\n",
       "      <td>S</td>\n",
       "      <td>0</td>\n",
       "      <td>0</td>\n",
       "    </tr>\n",
       "    <tr>\n",
       "      <th>3</th>\n",
       "      <td>4</td>\n",
       "      <td>1</td>\n",
       "      <td>1</td>\n",
       "      <td>Futrelle, Mrs. Jacques Heath (Lily May Peel)</td>\n",
       "      <td>0</td>\n",
       "      <td>35.0</td>\n",
       "      <td>1</td>\n",
       "      <td>0</td>\n",
       "      <td>113803</td>\n",
       "      <td>53.1000</td>\n",
       "      <td>C123</td>\n",
       "      <td>S</td>\n",
       "      <td>1</td>\n",
       "      <td>0</td>\n",
       "    </tr>\n",
       "    <tr>\n",
       "      <th>4</th>\n",
       "      <td>5</td>\n",
       "      <td>0</td>\n",
       "      <td>3</td>\n",
       "      <td>Allen, Mr. William Henry</td>\n",
       "      <td>1</td>\n",
       "      <td>35.0</td>\n",
       "      <td>0</td>\n",
       "      <td>0</td>\n",
       "      <td>373450</td>\n",
       "      <td>8.0500</td>\n",
       "      <td>NaN</td>\n",
       "      <td>S</td>\n",
       "      <td>0</td>\n",
       "      <td>0</td>\n",
       "    </tr>\n",
       "  </tbody>\n",
       "</table>\n",
       "</div>"
      ],
      "text/plain": [
       "   PassengerId  Survived  Pclass  \\\n",
       "0            1         0       3   \n",
       "1            2         1       1   \n",
       "2            3         1       3   \n",
       "3            4         1       1   \n",
       "4            5         0       3   \n",
       "\n",
       "                                                Name  Sex   Age  SibSp  Parch  \\\n",
       "0                            Braund, Mr. Owen Harris    1  22.0      1      0   \n",
       "1  Cumings, Mrs. John Bradley (Florence Briggs Th...    0  38.0      1      0   \n",
       "2                             Heikkinen, Miss. Laina    0  26.0      0      0   \n",
       "3       Futrelle, Mrs. Jacques Heath (Lily May Peel)    0  35.0      1      0   \n",
       "4                           Allen, Mr. William Henry    1  35.0      0      0   \n",
       "\n",
       "             Ticket     Fare Cabin Embarked  FirstClass  SecondClass  \n",
       "0         A/5 21171   7.2500   NaN        S           0            0  \n",
       "1          PC 17599  71.2833   C85        C           1            0  \n",
       "2  STON/O2. 3101282   7.9250   NaN        S           0            0  \n",
       "3            113803  53.1000  C123        S           1            0  \n",
       "4            373450   8.0500   NaN        S           0            0  "
      ]
     },
     "execution_count": 85,
     "metadata": {},
     "output_type": "execute_result"
    }
   ],
   "source": [
    "dataset.head()"
   ]
  },
  {
   "cell_type": "markdown",
   "id": "ee09e999",
   "metadata": {},
   "source": [
    "## Select and Split the Data"
   ]
  },
  {
   "cell_type": "code",
   "execution_count": 150,
   "id": "4e5da6ea",
   "metadata": {},
   "outputs": [],
   "source": [
    "X = dataset[['Sex', 'Age', 'FirstClass', 'SecondClass']]\n",
    "y = dataset['Survived']\n"
   ]
  },
  {
   "cell_type": "code",
   "execution_count": 187,
   "id": "a47a2086",
   "metadata": {},
   "outputs": [],
   "source": [
    "X_train, X_test, y_train, y_test = train_test_split(X, y, train_size = 0.8, random_state = 0)\n"
   ]
  },
  {
   "cell_type": "markdown",
   "id": "54e4151f",
   "metadata": {},
   "source": [
    "## Normalize the Data"
   ]
  },
  {
   "cell_type": "code",
   "execution_count": 188,
   "id": "a44f04ab",
   "metadata": {},
   "outputs": [],
   "source": [
    "sc_X = StandardScaler()\n",
    "X_train = sc_X.fit_transform(X_train)\n",
    "X_test = sc_X.transform(X_test)"
   ]
  },
  {
   "cell_type": "markdown",
   "id": "8bcb99eb",
   "metadata": {},
   "source": [
    "## Create and Evaluate the Model"
   ]
  },
  {
   "cell_type": "code",
   "execution_count": 189,
   "id": "78aa7960",
   "metadata": {},
   "outputs": [
    {
     "data": {
      "text/plain": [
       "LogisticRegression()"
      ]
     },
     "execution_count": 189,
     "metadata": {},
     "output_type": "execute_result"
    }
   ],
   "source": [
    "classifier = LogisticRegression()\n",
    "classifier.fit(X_train, y_train)"
   ]
  },
  {
   "cell_type": "code",
   "execution_count": 155,
   "id": "0f7a9355",
   "metadata": {},
   "outputs": [
    {
     "data": {
      "text/plain": [
       "0.7988826815642458"
      ]
     },
     "execution_count": 155,
     "metadata": {},
     "output_type": "execute_result"
    }
   ],
   "source": [
    "classifier.score(X_test, y_test)"
   ]
  },
  {
   "cell_type": "code",
   "execution_count": 156,
   "id": "73b92717",
   "metadata": {},
   "outputs": [
    {
     "data": {
      "text/plain": [
       "array([[-1.20797072, -0.46188153,  0.91609258,  0.45550712]])"
      ]
     },
     "execution_count": 156,
     "metadata": {},
     "output_type": "execute_result"
    }
   ],
   "source": [
    "classifier.coef_"
   ]
  },
  {
   "cell_type": "code",
   "execution_count": 157,
   "id": "455fdb0f",
   "metadata": {},
   "outputs": [
    {
     "data": {
      "text/plain": [
       "array([-0.63926296])"
      ]
     },
     "execution_count": 157,
     "metadata": {},
     "output_type": "execute_result"
    }
   ],
   "source": [
    "classifier.intercept_"
   ]
  },
  {
   "cell_type": "markdown",
   "id": "f5b30787",
   "metadata": {},
   "source": [
    "## Predict with the model"
   ]
  },
  {
   "cell_type": "code",
   "execution_count": 207,
   "id": "374f1127",
   "metadata": {},
   "outputs": [
    {
     "data": {
      "text/plain": [
       "array([[93, 17],\n",
       "       [19, 50]], dtype=int64)"
      ]
     },
     "execution_count": 207,
     "metadata": {},
     "output_type": "execute_result"
    }
   ],
   "source": [
    "from sklearn.metrics import confusion_matrix\n",
    "\n",
    "y_pred = classifier.predict(X_test)\n",
    "cm = confusion_matrix(y_test, y_pred)\n",
    "cm"
   ]
  },
  {
   "cell_type": "markdown",
   "id": "3feb8c6e",
   "metadata": {},
   "source": [
    "La cantidad de aciertos es grande por lo que es un buen modelo. Ahora hagamos predicciones sobre otros datos:"
   ]
  },
  {
   "cell_type": "code",
   "execution_count": 192,
   "id": "7a740c39",
   "metadata": {},
   "outputs": [
    {
     "data": {
      "text/plain": [
       "array([0], dtype=int64)"
      ]
     },
     "execution_count": 192,
     "metadata": {},
     "output_type": "execute_result"
    }
   ],
   "source": [
    "Jack = sc_X.transform([[1, 25.0, 0, 0]])\n",
    "\n",
    "classifier.predict(Jack)"
   ]
  },
  {
   "cell_type": "code",
   "execution_count": 194,
   "id": "bc411ba2",
   "metadata": {},
   "outputs": [
    {
     "data": {
      "text/plain": [
       "array([1], dtype=int64)"
      ]
     },
     "execution_count": 194,
     "metadata": {},
     "output_type": "execute_result"
    }
   ],
   "source": [
    "Rose = sc_X.transform([[0, 25.0, 1, 0]])\n",
    "\n",
    "classifier.predict(Rose)"
   ]
  },
  {
   "cell_type": "code",
   "execution_count": 195,
   "id": "00d092bd",
   "metadata": {},
   "outputs": [
    {
     "data": {
      "text/plain": [
       "array([0], dtype=int64)"
      ]
     },
     "execution_count": 195,
     "metadata": {},
     "output_type": "execute_result"
    }
   ],
   "source": [
    "Yo = sc_X.transform([[1, 31.0, 0, 0]])\n",
    "\n",
    "classifier.predict(Yo)"
   ]
  },
  {
   "cell_type": "code",
   "execution_count": 203,
   "id": "61eb8d09",
   "metadata": {},
   "outputs": [
    {
     "data": {
      "text/plain": [
       "array([[ 0.72882288, -0.36207656, -0.56004744, -0.5078883 ],\n",
       "       [-1.37207547, -0.36207656,  1.78556302, -0.5078883 ],\n",
       "       [ 0.72882288,  0.09662937, -0.56004744, -0.5078883 ]])"
      ]
     },
     "execution_count": 203,
     "metadata": {},
     "output_type": "execute_result"
    }
   ],
   "source": [
    "sample_passengers = [[1, 25.0, 0, 0],\n",
    "                    [0, 25.0, 1, 0],\n",
    "                    [1, 31.0, 0, 0]]\n",
    "sample_passengers = sc_X.transform(sample_passengers)\n",
    "sample_passengers"
   ]
  },
  {
   "cell_type": "code",
   "execution_count": 204,
   "id": "daec7640",
   "metadata": {},
   "outputs": [
    {
     "data": {
      "text/plain": [
       "array([0, 1, 0], dtype=int64)"
      ]
     },
     "execution_count": 204,
     "metadata": {},
     "output_type": "execute_result"
    }
   ],
   "source": [
    "classifier.predict(sample_passengers)"
   ]
  },
  {
   "cell_type": "code",
   "execution_count": 205,
   "id": "496e2d1e",
   "metadata": {},
   "outputs": [
    {
     "data": {
      "text/plain": [
       "array([[0.89059423, 0.10940577],\n",
       "       [0.0697981 , 0.9302019 ],\n",
       "       [0.90959444, 0.09040556]])"
      ]
     },
     "execution_count": 205,
     "metadata": {},
     "output_type": "execute_result"
    }
   ],
   "source": [
    "classifier.predict_proba(sample_passengers)"
   ]
  }
 ],
 "metadata": {
  "kernelspec": {
   "display_name": "Python 3",
   "language": "python",
   "name": "python3"
  },
  "language_info": {
   "codemirror_mode": {
    "name": "ipython",
    "version": 3
   },
   "file_extension": ".py",
   "mimetype": "text/x-python",
   "name": "python",
   "nbconvert_exporter": "python",
   "pygments_lexer": "ipython3",
   "version": "3.8.10"
  }
 },
 "nbformat": 4,
 "nbformat_minor": 5
}
