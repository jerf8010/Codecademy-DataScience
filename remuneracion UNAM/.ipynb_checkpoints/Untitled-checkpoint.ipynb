{
 "cells": [
  {
   "cell_type": "markdown",
   "metadata": {},
   "source": [
    "# Remuneración UNAM"
   ]
  },
  {
   "cell_type": "code",
   "execution_count": 415,
   "metadata": {},
   "outputs": [
    {
     "name": "stdout",
     "output_type": "stream",
     "text": [
      "       Ejercicio Fecha de inicio del periodo que se informa  \\\n",
      "0           2020                                 01/02/2020   \n",
      "1           2020                                 01/02/2020   \n",
      "2           2020                                 01/02/2020   \n",
      "3           2020                                 01/02/2020   \n",
      "4           2020                                 01/02/2020   \n",
      "...          ...                                        ...   \n",
      "12877       2020                                 01/02/2020   \n",
      "12878       2020                                 01/02/2020   \n",
      "12879       2020                                 01/02/2020   \n",
      "12880       2020                                 01/02/2020   \n",
      "12881       2020                                 01/02/2020   \n",
      "\n",
      "      Fecha de termino del periodo que se informa  \\\n",
      "0                                      31/12/2020   \n",
      "1                                      31/12/2020   \n",
      "2                                      31/12/2020   \n",
      "3                                      31/12/2020   \n",
      "4                                      31/12/2020   \n",
      "...                                           ...   \n",
      "12877                                  31/12/2020   \n",
      "12878                                  31/12/2020   \n",
      "12879                                  31/12/2020   \n",
      "12880                                  31/12/2020   \n",
      "12881                                  31/12/2020   \n",
      "\n",
      "                                        Unidad academica  \\\n",
      "0                                 INSTITUTO DE GEOFISICA   \n",
      "1             FACULTAD DE ESTUDIOS SUPERIORES CUAUTITLAN   \n",
      "2                  INSTITUTO DE INVESTIGACIONES SOCIALES   \n",
      "3                                   FACULTAD DE MEDICINA   \n",
      "4                               INSTITUTO DE MATEMATICAS   \n",
      "...                                                  ...   \n",
      "12877       PLANTEL DOS ERASMO CASTELLANOS QUINTO E.N.P.   \n",
      "12878  INSTITUTO DE ENERGIAS RENOVABLES EN TEMIXCO, MOR.   \n",
      "12879                               FACULTAD DE MEDICINA   \n",
      "12880             FACULTAD DE ESTUDIOS SUPERIORES ARAGON   \n",
      "12881                     FACULTAD DE FILOSOFIA Y LETRAS   \n",
      "\n",
      "      Nombre completo del profesor/a Primer apellido del profesor/a  \\\n",
      "0                    MARIA GUADALUPE                        CORDERO   \n",
      "1                            ENRIQUE                          SALAS   \n",
      "2                    LOURDES BEATRIZ                          URIAS   \n",
      "3                     CINTIA MELISSA                          SALAS   \n",
      "4                            OTONIEL                       NOGUEIRA   \n",
      "...                              ...                            ...   \n",
      "12877               YOLANDA GABRIELA                    DE LA LLATA   \n",
      "12878                          JULIA                        TAGUE�A   \n",
      "12879             MA. BERNARDA IRENE                        DURANTE   \n",
      "12880                ORLANDO ELEAZAR                         MORENO   \n",
      "12881                        ADRIANA                         CHAVEZ   \n",
      "\n",
      "      Segundo apellido del profesor/a  \\\n",
      "0                             TERCERO   \n",
      "1                              TELLEZ   \n",
      "2                          HORCASITAS   \n",
      "3                            BERMUDEZ   \n",
      "4                            DA SILVA   \n",
      "...                               ...   \n",
      "12877                         DOHRMAN   \n",
      "12878                           PARGA   \n",
      "12879                         MONTIEL   \n",
      "12880                           PEREZ   \n",
      "12881                          CASTRO   \n",
      "\n",
      "                            Tipo o nivel de contratacion Remuneracion bruta  \\\n",
      "0           I6489 INVESTIGADOR TITULAR A TIEMPO COMPLETO         $22,690.44   \n",
      "1              D5686 PROFESOR ASOCIADO C TIEMPO COMPLETO         $19,661.12   \n",
      "2           I6593 INVESTIGADOR TITULAR B TIEMPO COMPLETO         $26,820.56   \n",
      "3      D8467 TECNICO ACADEMICO ASOCIADO A TIEMPO COMP...         $13,099.20   \n",
      "4          I5686 INVESTIGADOR ASOCIADO C TIEMPO COMPLETO         $19,661.12   \n",
      "...                                                  ...                ...   \n",
      "12877           D6696 PROFESOR TITULAR C TIEMPO COMPLETO         $31,704.48   \n",
      "12878       I6696 INVESTIGADOR TITULAR C TIEMPO COMPLETO         $31,704.48   \n",
      "12879          D5686 PROFESOR ASOCIADO C TIEMPO COMPLETO         $19,661.12   \n",
      "12880           D6696 PROFESOR TITULAR C TIEMPO COMPLETO         $31,704.48   \n",
      "12881  I8682 TECNICO ACADEMICO ASOCIADO C TIEMPO COMP...         $15,970.28   \n",
      "\n",
      "      Remuneracion neta  \\\n",
      "0            $16,726.36   \n",
      "1            $14,665.97   \n",
      "2            $19,635.89   \n",
      "3            $10,202.88   \n",
      "4            $14,665.97   \n",
      "...                 ...   \n",
      "12877        $23,371.12   \n",
      "12878        $23,371.12   \n",
      "12879        $14,665.97   \n",
      "12880        $23,371.12   \n",
      "12881        $12,155.64   \n",
      "\n",
      "       Estimulos correspondientes a los niveles de contratacion  \\\n",
      "0                                               21725.09          \n",
      "1                                               24104.81          \n",
      "2                                               39643.85          \n",
      "3                                                9222.55          \n",
      "4                                               13487.79          \n",
      "...                                                  ...          \n",
      "12877                                           47194.77          \n",
      "12878                                           57700.07          \n",
      "12879                                           32878.57          \n",
      "12880                                           69982.35          \n",
      "12881                                            9619.49          \n",
      "\n",
      "      Monto total percibido Area(s) responsable(s) que genera(n)    posee(n)  \\\n",
      "0                $38,451.45        DIRECCI�N GENERAL DE PERSONAL  29/02/2020   \n",
      "1                $38,770.78        DIRECCI�N GENERAL DE PERSONAL  29/02/2020   \n",
      "2                $59,279.74        DIRECCI�N GENERAL DE PERSONAL  29/02/2020   \n",
      "3                $19,425.43        DIRECCI�N GENERAL DE PERSONAL  29/02/2020   \n",
      "4                $28,153.76        DIRECCI�N GENERAL DE PERSONAL  29/02/2020   \n",
      "...                     ...                                  ...         ...   \n",
      "12877            $70,565.89        DIRECCI�N GENERAL DE PERSONAL  29/02/2020   \n",
      "12878            $81,071.19        DIRECCI�N GENERAL DE PERSONAL  29/02/2020   \n",
      "12879            $47,544.54        DIRECCI�N GENERAL DE PERSONAL  29/02/2020   \n",
      "12880            $93,353.47        DIRECCI�N GENERAL DE PERSONAL  29/02/2020   \n",
      "12881            $21,775.13        DIRECCI�N GENERAL DE PERSONAL  29/02/2020   \n",
      "\n",
      "       publica(n) y actualizan la informacion  \\\n",
      "0                                  01/02/2020   \n",
      "1                                  01/02/2020   \n",
      "2                                  01/02/2020   \n",
      "3                                  01/02/2020   \n",
      "4                                  01/02/2020   \n",
      "...                                       ...   \n",
      "12877                              01/02/2020   \n",
      "12878                              01/02/2020   \n",
      "12879                              01/02/2020   \n",
      "12880                              01/02/2020   \n",
      "12881                              01/02/2020   \n",
      "\n",
      "                                     Fecha de validacion  \\\n",
      "0      Actualizaci�n por incremento salarial al perso...   \n",
      "1      Actualizaci�n por incremento salarial al perso...   \n",
      "2      Actualizaci�n por incremento salarial al perso...   \n",
      "3      Actualizaci�n por incremento salarial al perso...   \n",
      "4      Actualizaci�n por incremento salarial al perso...   \n",
      "...                                                  ...   \n",
      "12877  Actualizaci�n por incremento salarial al perso...   \n",
      "12878  Actualizaci�n por incremento salarial al perso...   \n",
      "12879  Actualizaci�n por incremento salarial al perso...   \n",
      "12880  Actualizaci�n por incremento salarial al perso...   \n",
      "12881  Actualizaci�n por incremento salarial al perso...   \n",
      "\n",
      "       Fecha de actualizacion  Nota  \n",
      "0                         NaN   NaN  \n",
      "1                         NaN   NaN  \n",
      "2                         NaN   NaN  \n",
      "3                         NaN   NaN  \n",
      "4                         NaN   NaN  \n",
      "...                       ...   ...  \n",
      "12877                     NaN   NaN  \n",
      "12878                     NaN   NaN  \n",
      "12879                     NaN   NaN  \n",
      "12880                     NaN   NaN  \n",
      "12881                     NaN   NaN  \n",
      "\n",
      "[12882 rows x 18 columns]\n"
     ]
    }
   ],
   "source": [
    "import pandas as pd\n",
    "import matplotlib.pyplot as plot\n",
    "\n",
    "remuneracion_unam = pd.read_csv(\"UNAM_remuneracion.csv\")\n",
    "print(remuneracion_unam)"
   ]
  },
  {
   "cell_type": "code",
   "execution_count": 271,
   "metadata": {},
   "outputs": [
    {
     "name": "stdout",
     "output_type": "stream",
     "text": [
      "Ejercicio                                                     int64\n",
      "Fecha de inicio del periodo que se informa                   object\n",
      "Fecha de termino del periodo que se informa                  object\n",
      "Unidad academica                                             object\n",
      "Nombre completo del profesor/a                               object\n",
      "Primer apellido del profesor/a                               object\n",
      "Segundo apellido del profesor/a                              object\n",
      "Tipo o nivel de contratacion                                 object\n",
      "Remuneracion bruta                                           object\n",
      "Remuneracion neta                                            object\n",
      "Estimulos correspondientes a los niveles de contratacion    float64\n",
      "Monto total percibido                                        object\n",
      "Area(s) responsable(s) que genera(n)                         object\n",
      " posee(n)                                                    object\n",
      " publica(n) y actualizan la informacion                      object\n",
      "Fecha de validacion                                          object\n",
      "Fecha de actualizacion                                      float64\n",
      "Nota                                                        float64\n",
      "dtype: object\n"
     ]
    }
   ],
   "source": [
    "print(remuneracion_unam.dtypes)"
   ]
  },
  {
   "cell_type": "markdown",
   "metadata": {},
   "source": [
    "### Nombres de las columnas"
   ]
  },
  {
   "cell_type": "code",
   "execution_count": 272,
   "metadata": {},
   "outputs": [
    {
     "name": "stdout",
     "output_type": "stream",
     "text": [
      "Index(['Ejercicio', 'Fecha de inicio del periodo que se informa',\n",
      "       'Fecha de termino del periodo que se informa', 'Unidad academica',\n",
      "       'Nombre completo del profesor/a', 'Primer apellido del profesor/a',\n",
      "       'Segundo apellido del profesor/a', 'Tipo o nivel de contratacion',\n",
      "       'Remuneracion bruta', 'Remuneracion neta',\n",
      "       'Estimulos correspondientes a los niveles de contratacion',\n",
      "       'Monto total percibido', 'Area(s) responsable(s) que genera(n)',\n",
      "       ' posee(n)', ' publica(n) y actualizan la informacion',\n",
      "       'Fecha de validacion', 'Fecha de actualizacion', 'Nota'],\n",
      "      dtype='object')\n"
     ]
    }
   ],
   "source": [
    "print(remuneracion_unam.columns)"
   ]
  },
  {
   "cell_type": "markdown",
   "metadata": {},
   "source": [
    "### Limpiando datos"
   ]
  },
  {
   "cell_type": "markdown",
   "metadata": {},
   "source": [
    "#### Filas duplicadas?"
   ]
  },
  {
   "cell_type": "code",
   "execution_count": 273,
   "metadata": {},
   "outputs": [
    {
     "data": {
      "text/plain": [
       "False    12882\n",
       "dtype: int64"
      ]
     },
     "execution_count": 273,
     "metadata": {},
     "output_type": "execute_result"
    }
   ],
   "source": [
    "n = remuneracion_unam.duplicated()\n",
    "n.groupby(n.tolist()).size()\n"
   ]
  },
  {
   "cell_type": "markdown",
   "metadata": {},
   "source": [
    "#### valores nulos?"
   ]
  },
  {
   "cell_type": "code",
   "execution_count": 274,
   "metadata": {},
   "outputs": [
    {
     "data": {
      "text/plain": [
       "0        $38,451.45\n",
       "1        $38,770.78\n",
       "2        $59,279.74\n",
       "3        $19,425.43\n",
       "4        $28,153.76\n",
       "            ...    \n",
       "12877    $70,565.89\n",
       "12878    $81,071.19\n",
       "12879    $47,544.54\n",
       "12880    $93,353.47\n",
       "12881    $21,775.13\n",
       "Name: Monto total percibido, Length: 12882, dtype: object"
      ]
     },
     "execution_count": 274,
     "metadata": {},
     "output_type": "execute_result"
    }
   ],
   "source": [
    "remuneracion_unam['Monto total percibido'].fillna(0)"
   ]
  },
  {
   "cell_type": "code",
   "execution_count": 275,
   "metadata": {},
   "outputs": [
    {
     "name": "stdout",
     "output_type": "stream",
     "text": [
      "object\n"
     ]
    }
   ],
   "source": [
    "print(remuneracion_unam['Monto total percibido'].dtype)"
   ]
  },
  {
   "cell_type": "markdown",
   "metadata": {},
   "source": [
    "### Extrayendo salarios en las escuelas"
   ]
  },
  {
   "cell_type": "code",
   "execution_count": 374,
   "metadata": {},
   "outputs": [
    {
     "name": "stdout",
     "output_type": "stream",
     "text": [
      "                                        Unidad academica Monto total percibido\n",
      "0                                 INSTITUTO DE GEOFISICA            $38,451.45\n",
      "1             FACULTAD DE ESTUDIOS SUPERIORES CUAUTITLAN            $38,770.78\n",
      "2                  INSTITUTO DE INVESTIGACIONES SOCIALES            $59,279.74\n",
      "3                                   FACULTAD DE MEDICINA            $19,425.43\n",
      "4                               INSTITUTO DE MATEMATICAS            $28,153.76\n",
      "...                                                  ...                   ...\n",
      "12877       PLANTEL DOS ERASMO CASTELLANOS QUINTO E.N.P.            $70,565.89\n",
      "12878  INSTITUTO DE ENERGIAS RENOVABLES EN TEMIXCO, MOR.            $81,071.19\n",
      "12879                               FACULTAD DE MEDICINA            $47,544.54\n",
      "12880             FACULTAD DE ESTUDIOS SUPERIORES ARAGON            $93,353.47\n",
      "12881                     FACULTAD DE FILOSOFIA Y LETRAS            $21,775.13\n",
      "\n",
      "[12882 rows x 2 columns]\n"
     ]
    }
   ],
   "source": [
    "\n",
    "n = list(remuneracion_unam.columns.values).index('Monto total percibido')\n",
    "m = list(remuneracion_unam.columns.values).index('Unidad academica')\n",
    "    \n",
    "#rem_x_esc = remuneracion_unam.iloc[:,[3,11]]\n",
    "rem_p_esc= pd.DataFrame(remuneracion_unam['Unidad academica'])\n",
    "mon = pd.DataFrame(remuneracion_unam['Monto total percibido'])\n",
    "rem_x_esc = pd.concat([rem_p_esc,mon], axis=1)\n",
    "\n",
    "print(rem_x_esc)\n",
    "\n"
   ]
  },
  {
   "cell_type": "code",
   "execution_count": 300,
   "metadata": {},
   "outputs": [
    {
     "name": "stdout",
     "output_type": "stream",
     "text": [
      "Unidad academica         object\n",
      "Monto total percibido    object\n",
      "dtype: object\n"
     ]
    }
   ],
   "source": [
    "print(rem_x_esc.dtypes)"
   ]
  },
  {
   "cell_type": "code",
   "execution_count": 375,
   "metadata": {},
   "outputs": [
    {
     "name": "stdout",
     "output_type": "stream",
     "text": [
      "Index(['Unidad academica', 'Monto total percibido'], dtype='object')\n"
     ]
    }
   ],
   "source": [
    "\n",
    "rem_x_esc['Monto total percibido']= rem_x_esc['Monto total percibido'].str.replace('$','').str.replace(',','').astype('float')\n",
    "  \n",
    "print(rem_x_esc.columns)"
   ]
  },
  {
   "cell_type": "code",
   "execution_count": 377,
   "metadata": {},
   "outputs": [
    {
     "name": "stdout",
     "output_type": "stream",
     "text": [
      "Unidad academica\n",
      "CENTRO DE CIENCIAS DE LA ATMOSFERA                  41856.044557\n",
      "CENTRO DE CIENCIAS DE LA COMPLEJIDAD                47460.684167\n",
      "CENTRO DE CIENCIAS GENOMICAS                        44785.279077\n",
      "CENTRO DE CIENCIAS MATEMATICAS EN MORELIA, MICH.    47906.983226\n",
      "CENTRO DE ENSE�ANZA PARA EXTRANJEROS                36529.989000\n",
      "                                                        ...     \n",
      "SECRETARIA GENERAL                                  69463.107778\n",
      "UNIDAD COORDINADORA DE SERVICIOS ACADEMICOS         33798.130000\n",
      "UNIDAD DE COORDINACION ADMINISTRATIVA               77379.370000\n",
      "UNIDAD DE TRANSPARENCIA DE LA UNAM                  38436.540000\n",
      "UNIDAD PARA EL DESARROLLO DE PLANES Y PROGRAMAS     63841.133333\n",
      "Name: Monto total percibido, Length: 140, dtype: float64\n"
     ]
    }
   ],
   "source": [
    "n = rem_x_esc.groupby(['Unidad academica'])['Monto total percibido'].mean()\n",
    "print(n)"
   ]
  },
  {
   "cell_type": "code",
   "execution_count": 383,
   "metadata": {},
   "outputs": [
    {
     "data": {
      "image/png": "[encoded data removed]",
      "text/plain": [
       "<Figure size 432x288 with 1 Axes>"
      ]
     },
     "metadata": {
      "needs_background": "light"
     },
     "output_type": "display_data"
    }
   ],
   "source": [
    "plot.hist(n, bins = 1000)\n",
    "plot.show()"
   ]
  },
  {
   "cell_type": "code",
   "execution_count": 190,
   "metadata": {},
   "outputs": [
    {
     "data": {
      "text/plain": [
       "45520.02905764581"
      ]
     },
     "execution_count": 190,
     "metadata": {},
     "output_type": "execute_result"
    }
   ],
   "source": [
    "import numpy as np\n",
    "np.median(monto_prom_por_esc)"
   ]
  },
  {
   "cell_type": "code",
   "execution_count": 191,
   "metadata": {},
   "outputs": [
    {
     "data": {
      "text/plain": [
       "11445.283399243976"
      ]
     },
     "execution_count": 191,
     "metadata": {},
     "output_type": "execute_result"
    }
   ],
   "source": [
    "np.std(monto_prom_por_esc)"
   ]
  },
  {
   "cell_type": "code",
   "execution_count": 192,
   "metadata": {},
   "outputs": [
    {
     "data": {
      "text/plain": [
       "84791.78"
      ]
     },
     "execution_count": 192,
     "metadata": {},
     "output_type": "execute_result"
    }
   ],
   "source": [
    "np.amax(monto_prom_por_esc)"
   ]
  },
  {
   "cell_type": "code",
   "execution_count": 193,
   "metadata": {},
   "outputs": [
    {
     "data": {
      "text/plain": [
       "14388.18"
      ]
     },
     "execution_count": 193,
     "metadata": {},
     "output_type": "execute_result"
    }
   ],
   "source": [
    "np.amin(monto_prom_por_esc)"
   ]
  },
  {
   "cell_type": "code",
   "execution_count": 195,
   "metadata": {},
   "outputs": [
    {
     "data": {
      "text/plain": [
       "70403.6"
      ]
     },
     "execution_count": 195,
     "metadata": {},
     "output_type": "execute_result"
    }
   ],
   "source": [
    "np.amax(monto_prom_por_esc)-np.amin(monto_prom_por_esc)"
   ]
  },
  {
   "cell_type": "code",
   "execution_count": 194,
   "metadata": {},
   "outputs": [
    {
     "data": {
      "text/plain": [
       "array([38455.19765625, 45520.02905765, 49477.37016509])"
      ]
     },
     "execution_count": 194,
     "metadata": {},
     "output_type": "execute_result"
    }
   ],
   "source": [
    "np.quantile(monto_prom_por_esc, [0.25,0.5,0.75])"
   ]
  },
  {
   "cell_type": "code",
   "execution_count": 400,
   "metadata": {},
   "outputs": [
    {
     "name": "stdout",
     "output_type": "stream",
     "text": [
      "14388.18 84791.78\n"
     ]
    }
   ],
   "source": [
    "mini = np.amin(n)\n",
    "maxi = np.amax(n)\n",
    "\n",
    "print(mini, maxi)"
   ]
  },
  {
   "cell_type": "code",
   "execution_count": 416,
   "metadata": {},
   "outputs": [],
   "source": [
    "remuneracion_unam['Monto total percibido']= remuneracion_unam['Monto total percibido'].str.replace('$','').str.replace(',','').astype('float')\n",
    "\n",
    "maxi1 = np.amax(remuneracion_unam['Monto total percibido'])\n"
   ]
  },
  {
   "cell_type": "code",
   "execution_count": 417,
   "metadata": {},
   "outputs": [
    {
     "name": "stdout",
     "output_type": "stream",
     "text": [
      "168575.4\n"
     ]
    }
   ],
   "source": [
    "print(maxi1)"
   ]
  },
  {
   "cell_type": "code",
   "execution_count": 418,
   "metadata": {},
   "outputs": [
    {
     "data": {
      "text/html": [
       "<div>\n",
       "<style scoped>\n",
       "    .dataframe tbody tr th:only-of-type {\n",
       "        vertical-align: middle;\n",
       "    }\n",
       "\n",
       "    .dataframe tbody tr th {\n",
       "        vertical-align: top;\n",
       "    }\n",
       "\n",
       "    .dataframe thead th {\n",
       "        text-align: right;\n",
       "    }\n",
       "</style>\n",
       "<table border=\"1\" class=\"dataframe\">\n",
       "  <thead>\n",
       "    <tr style=\"text-align: right;\">\n",
       "      <th></th>\n",
       "      <th>Ejercicio</th>\n",
       "      <th>Fecha de inicio del periodo que se informa</th>\n",
       "      <th>Fecha de termino del periodo que se informa</th>\n",
       "      <th>Unidad academica</th>\n",
       "      <th>Nombre completo del profesor/a</th>\n",
       "      <th>Primer apellido del profesor/a</th>\n",
       "      <th>Segundo apellido del profesor/a</th>\n",
       "      <th>Tipo o nivel de contratacion</th>\n",
       "      <th>Remuneracion bruta</th>\n",
       "      <th>Remuneracion neta</th>\n",
       "      <th>Estimulos correspondientes a los niveles de contratacion</th>\n",
       "      <th>Monto total percibido</th>\n",
       "      <th>Area(s) responsable(s) que genera(n)</th>\n",
       "      <th>posee(n)</th>\n",
       "      <th>publica(n) y actualizan la informacion</th>\n",
       "      <th>Fecha de validacion</th>\n",
       "      <th>Fecha de actualizacion</th>\n",
       "      <th>Nota</th>\n",
       "    </tr>\n",
       "  </thead>\n",
       "  <tbody>\n",
       "    <tr>\n",
       "      <th>8984</th>\n",
       "      <td>2020</td>\n",
       "      <td>01/02/2020</td>\n",
       "      <td>31/12/2020</td>\n",
       "      <td>INSTITUTO DE FISICA</td>\n",
       "      <td>FERNANDO</td>\n",
       "      <td>ALBA</td>\n",
       "      <td>Y ANDRADE</td>\n",
       "      <td>I2199 INVESTIGADOR EMERITO</td>\n",
       "      <td>$33,482.24</td>\n",
       "      <td>$24,730.75</td>\n",
       "      <td>143844.65</td>\n",
       "      <td>168575.4</td>\n",
       "      <td>DIRECCI�N GENERAL DE PERSONAL</td>\n",
       "      <td>29/02/2020</td>\n",
       "      <td>01/02/2020</td>\n",
       "      <td>Actualizaci�n por incremento salarial al perso...</td>\n",
       "      <td>NaN</td>\n",
       "      <td>NaN</td>\n",
       "    </tr>\n",
       "  </tbody>\n",
       "</table>\n",
       "</div>"
      ],
      "text/plain": [
       "      Ejercicio Fecha de inicio del periodo que se informa  \\\n",
       "8984       2020                                 01/02/2020   \n",
       "\n",
       "     Fecha de termino del periodo que se informa     Unidad academica  \\\n",
       "8984                                  31/12/2020  INSTITUTO DE FISICA   \n",
       "\n",
       "     Nombre completo del profesor/a Primer apellido del profesor/a  \\\n",
       "8984                       FERNANDO                           ALBA   \n",
       "\n",
       "     Segundo apellido del profesor/a Tipo o nivel de contratacion  \\\n",
       "8984                       Y ANDRADE   I2199 INVESTIGADOR EMERITO   \n",
       "\n",
       "     Remuneracion bruta Remuneracion neta  \\\n",
       "8984         $33,482.24        $24,730.75   \n",
       "\n",
       "      Estimulos correspondientes a los niveles de contratacion  \\\n",
       "8984                                          143844.65          \n",
       "\n",
       "      Monto total percibido Area(s) responsable(s) que genera(n)    posee(n)  \\\n",
       "8984               168575.4        DIRECCI�N GENERAL DE PERSONAL  29/02/2020   \n",
       "\n",
       "      publica(n) y actualizan la informacion  \\\n",
       "8984                              01/02/2020   \n",
       "\n",
       "                                    Fecha de validacion  \\\n",
       "8984  Actualizaci�n por incremento salarial al perso...   \n",
       "\n",
       "      Fecha de actualizacion  Nota  \n",
       "8984                     NaN   NaN  "
      ]
     },
     "execution_count": 418,
     "metadata": {},
     "output_type": "execute_result"
    }
   ],
   "source": [
    "remuneracion_unam[remuneracion_unam['Monto total percibido']==168575.4]"
   ]
  },
  {
   "cell_type": "code",
   "execution_count": 419,
   "metadata": {},
   "outputs": [
    {
     "data": {
      "image/png": "[encoded data removed]",
      "text/plain": [
       "<Figure size 432x288 with 1 Axes>"
      ]
     },
     "metadata": {
      "needs_background": "light"
     },
     "output_type": "display_data"
    }
   ],
   "source": [
    "plot.hist(remuneracion_unam['Monto total percibido'])\n",
    "plot.show()"
   ]
  },
  {
   "cell_type": "markdown",
   "metadata": {},
   "source": [
    "### NO hay profesores de asignatura"
   ]
  },
  {
   "cell_type": "code",
   "execution_count": 422,
   "metadata": {},
   "outputs": [
    {
     "data": {
      "text/html": [
       "<div>\n",
       "<style scoped>\n",
       "    .dataframe tbody tr th:only-of-type {\n",
       "        vertical-align: middle;\n",
       "    }\n",
       "\n",
       "    .dataframe tbody tr th {\n",
       "        vertical-align: top;\n",
       "    }\n",
       "\n",
       "    .dataframe thead th {\n",
       "        text-align: right;\n",
       "    }\n",
       "</style>\n",
       "<table border=\"1\" class=\"dataframe\">\n",
       "  <thead>\n",
       "    <tr style=\"text-align: right;\">\n",
       "      <th></th>\n",
       "      <th>Ejercicio</th>\n",
       "      <th>Fecha de inicio del periodo que se informa</th>\n",
       "      <th>Fecha de termino del periodo que se informa</th>\n",
       "      <th>Unidad academica</th>\n",
       "      <th>Nombre completo del profesor/a</th>\n",
       "      <th>Primer apellido del profesor/a</th>\n",
       "      <th>Segundo apellido del profesor/a</th>\n",
       "      <th>Tipo o nivel de contratacion</th>\n",
       "      <th>Remuneracion bruta</th>\n",
       "      <th>Remuneracion neta</th>\n",
       "      <th>Estimulos correspondientes a los niveles de contratacion</th>\n",
       "      <th>Monto total percibido</th>\n",
       "      <th>Area(s) responsable(s) que genera(n)</th>\n",
       "      <th>posee(n)</th>\n",
       "      <th>publica(n) y actualizan la informacion</th>\n",
       "      <th>Fecha de validacion</th>\n",
       "      <th>Fecha de actualizacion</th>\n",
       "      <th>Nota</th>\n",
       "    </tr>\n",
       "  </thead>\n",
       "  <tbody>\n",
       "  </tbody>\n",
       "</table>\n",
       "</div>"
      ],
      "text/plain": [
       "Empty DataFrame\n",
       "Columns: [Ejercicio, Fecha de inicio del periodo que se informa, Fecha de termino del periodo que se informa, Unidad academica, Nombre completo del profesor/a, Primer apellido del profesor/a, Segundo apellido del profesor/a, Tipo o nivel de contratacion, Remuneracion bruta, Remuneracion neta, Estimulos correspondientes a los niveles de contratacion, Monto total percibido, Area(s) responsable(s) que genera(n),  posee(n),  publica(n) y actualizan la informacion, Fecha de validacion, Fecha de actualizacion, Nota]\n",
       "Index: []"
      ]
     },
     "execution_count": 422,
     "metadata": {},
     "output_type": "execute_result"
    }
   ],
   "source": [
    "remuneracion_unam[remuneracion_unam['Tipo o nivel de contratacion'].str.contains('asignatura')]"
   ]
  }
 ],
 "metadata": {
  "kernelspec": {
   "display_name": "Python 3",
   "language": "python",
   "name": "python3"
  },
  "language_info": {
   "codemirror_mode": {
    "name": "ipython",
    "version": 3
   },
   "file_extension": ".py",
   "mimetype": "text/x-python",
   "name": "python",
   "nbconvert_exporter": "python",
   "pygments_lexer": "ipython3",
   "version": "3.8.5"
  }
 },
 "nbformat": 4,
 "nbformat_minor": 4
}
