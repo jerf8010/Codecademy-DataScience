{
 "cells": [
  {
   "cell_type": "markdown",
   "metadata": {},
   "source": [
    "# Census Variables (Variable Types)"
   ]
  },
  {
   "cell_type": "code",
   "execution_count": 26,
   "metadata": {},
   "outputs": [
    {
     "name": "stdout",
     "output_type": "stream",
     "text": [
      "   Unnamed: 0 first_name  last_name birth_year  voted  num_children  \\\n",
      "0           0     Denise      Ratke       2005  False             0   \n",
      "1           1       Hali  Cummerata       1987  False             0   \n",
      "2           2    Salomon        Orn       1992   True             2   \n",
      "3           3     Sarina   Schiller       1965  False             2   \n",
      "4           4       Gust  Abernathy       1945  False             2   \n",
      "\n",
      "   income_year      higher_tax marital_status  \n",
      "0     92129.41        disagree         single  \n",
      "1     75649.17         neutral       divorced  \n",
      "2    166313.45           agree         single  \n",
      "3     71704.81  strongly agree        married  \n",
      "4    143316.08           agree        married  \n"
     ]
    }
   ],
   "source": [
    "import pandas as pd\n",
    "\n",
    "data = pd.read_csv('census_variables.csv')\n",
    "print(data.head())"
   ]
  },
  {
   "cell_type": "markdown",
   "metadata": {},
   "source": [
    "### Checking for types"
   ]
  },
  {
   "cell_type": "code",
   "execution_count": 27,
   "metadata": {},
   "outputs": [
    {
     "name": "stdout",
     "output_type": "stream",
     "text": [
      "Unnamed: 0          int64\n",
      "first_name         object\n",
      "last_name          object\n",
      "birth_year         object\n",
      "voted                bool\n",
      "num_children        int64\n",
      "income_year       float64\n",
      "higher_tax         object\n",
      "marital_status     object\n",
      "dtype: object\n"
     ]
    }
   ],
   "source": [
    "print(data.dtypes)"
   ]
  },
  {
   "cell_type": "markdown",
   "metadata": {},
   "source": [
    "### Unique year values"
   ]
  },
  {
   "cell_type": "code",
   "execution_count": 28,
   "metadata": {},
   "outputs": [
    {
     "name": "stdout",
     "output_type": "stream",
     "text": [
      "['2005' '1987' '1992' '1965' '1945' '1951' '1963' '1949' '1950' '1971'\n",
      " '2007' '1944' '1995' '1973' '1946' '1954' '1994' '1989' '1947' '1993'\n",
      " '1976' '1984' 'missing' '1966' '1941' '2000' '1953' '1956' '1960' '2001'\n",
      " '1980' '1955' '1985' '1996' '1968' '1979' '2006' '1962' '1981' '1959'\n",
      " '1977' '1978' '1983' '1957' '1961' '1982' '2002' '1998' '1999' '1952'\n",
      " '1940' '1986' '1958']\n"
     ]
    }
   ],
   "source": [
    "print(data.birth_year.unique())"
   ]
  },
  {
   "cell_type": "markdown",
   "metadata": {},
   "source": [
    "### Replacing missing values for birth year"
   ]
  },
  {
   "cell_type": "code",
   "execution_count": 29,
   "metadata": {},
   "outputs": [
    {
     "name": "stdout",
     "output_type": "stream",
     "text": [
      "['2005' '1987' '1992' '1965' '1945' '1951' '1963' '1949' '1950' '1971'\n",
      " '2007' '1944' '1995' '1973' '1946' '1954' '1994' '1989' '1947' '1993'\n",
      " '1976' '1984' 1967 '1966' '1941' '2000' '1953' '1956' '1960' '2001'\n",
      " '1980' '1955' '1985' '1996' '1968' '1979' '2006' '1962' '1981' '1959'\n",
      " '1977' '1978' '1983' '1957' '1961' '1982' '2002' '1998' '1999' '1952'\n",
      " '1940' '1986' '1958']\n"
     ]
    }
   ],
   "source": [
    "data.birth_year = data.birth_year.replace(['missing'], 1967)\n",
    "print(data.birth_year.unique())"
   ]
  },
  {
   "cell_type": "markdown",
   "metadata": {},
   "source": [
    "### Changing the data type for year"
   ]
  },
  {
   "cell_type": "code",
   "execution_count": 30,
   "metadata": {},
   "outputs": [
    {
     "name": "stdout",
     "output_type": "stream",
     "text": [
      "Unnamed: 0          int64\n",
      "first_name         object\n",
      "last_name          object\n",
      "birth_year          int32\n",
      "voted                bool\n",
      "num_children        int64\n",
      "income_year       float64\n",
      "higher_tax         object\n",
      "marital_status     object\n",
      "dtype: object\n"
     ]
    }
   ],
   "source": [
    "data.birth_year = data.birth_year.astype('int')\n",
    "print(data.dtypes)"
   ]
  },
  {
   "cell_type": "markdown",
   "metadata": {},
   "source": [
    "### Year Average"
   ]
  },
  {
   "cell_type": "code",
   "execution_count": 31,
   "metadata": {},
   "outputs": [
    {
     "name": "stdout",
     "output_type": "stream",
     "text": [
      "1973.4\n"
     ]
    }
   ],
   "source": [
    "print(data.birth_year.mean())"
   ]
  },
  {
   "cell_type": "markdown",
   "metadata": {},
   "source": [
    "### Higher_tax to Categorical type"
   ]
  },
  {
   "cell_type": "code",
   "execution_count": 32,
   "metadata": {},
   "outputs": [
    {
     "name": "stdout",
     "output_type": "stream",
     "text": [
      "['disagree', 'neutral', 'agree', 'strongly agree', 'strongly disagree']\n",
      "Categories (5, object): ['strongly disagree' < 'disagree' < 'neutral' < 'agree' < 'strongly agree']\n"
     ]
    }
   ],
   "source": [
    "data.higher_tax = pd.Categorical(data.higher_tax, ['strongly disagree', 'disagree', 'neutral', 'agree', 'strongly agree'], ordered = True)\n",
    "print(data.higher_tax.unique())"
   ]
  },
  {
   "cell_type": "markdown",
   "metadata": {},
   "source": [
    "### Median of higher_tax"
   ]
  },
  {
   "cell_type": "code",
   "execution_count": 33,
   "metadata": {},
   "outputs": [
    {
     "name": "stdout",
     "output_type": "stream",
     "text": [
      "0     1\n",
      "1     2\n",
      "2     3\n",
      "3     4\n",
      "4     3\n",
      "     ..\n",
      "95    3\n",
      "96    0\n",
      "97    4\n",
      "98    1\n",
      "99    4\n",
      "Name: higher_tax, Length: 100, dtype: int8\n",
      "2.0\n"
     ]
    }
   ],
   "source": [
    "data.higher_tax = data.higher_tax.cat.codes\n",
    "print(data.higher_tax)\n",
    "print(data.higher_tax.median())"
   ]
  },
  {
   "cell_type": "markdown",
   "metadata": {},
   "source": [
    "### One-Hot Encode to material_status variable"
   ]
  },
  {
   "cell_type": "code",
   "execution_count": 35,
   "metadata": {},
   "outputs": [
    {
     "name": "stdout",
     "output_type": "stream",
     "text": [
      "   Unnamed: 0 first_name  last_name  birth_year  voted  num_children  \\\n",
      "0           0     Denise      Ratke        2005  False             0   \n",
      "1           1       Hali  Cummerata        1987  False             0   \n",
      "2           2    Salomon        Orn        1992   True             2   \n",
      "3           3     Sarina   Schiller        1965  False             2   \n",
      "4           4       Gust  Abernathy        1945  False             2   \n",
      "\n",
      "   income_year  higher_tax  marital_status_divorced  marital_status_married  \\\n",
      "0     92129.41           1                        0                       0   \n",
      "1     75649.17           2                        1                       0   \n",
      "2    166313.45           3                        0                       0   \n",
      "3     71704.81           4                        0                       1   \n",
      "4    143316.08           3                        0                       1   \n",
      "\n",
      "   marital_status_single  marital_status_widowed  \n",
      "0                      1                       0  \n",
      "1                      0                       0  \n",
      "2                      1                       0  \n",
      "3                      0                       0  \n",
      "4                      0                       0  \n"
     ]
    }
   ],
   "source": [
    "data = pd.get_dummies(data, columns = ['marital_status'])\n",
    "print(data.head())"
   ]
  },
  {
   "cell_type": "markdown",
   "metadata": {},
   "source": [
    "###  age_group"
   ]
  },
  {
   "cell_type": "code",
   "execution_count": 65,
   "metadata": {},
   "outputs": [
    {
     "name": "stdout",
     "output_type": "stream",
     "text": [
      "   Unnamed: 0 first_name  last_name  birth_year  voted  num_children  \\\n",
      "0           0     Denise      Ratke        2005  False             0   \n",
      "1           1       Hali  Cummerata        1987  False             0   \n",
      "2           2    Salomon        Orn        1992   True             2   \n",
      "3           3     Sarina   Schiller        1965  False             2   \n",
      "4           4       Gust  Abernathy        1945  False             2   \n",
      "\n",
      "   income_year  higher_tax  marital_status_divorced  marital_status_married  \\\n",
      "0     92129.41           1                        0                       0   \n",
      "1     75649.17           2                        1                       0   \n",
      "2    166313.45           3                        0                       0   \n",
      "3     71704.81           4                        0                       1   \n",
      "4    143316.08           3                        0                       1   \n",
      "\n",
      "   marital_status_single  marital_status_widowed    age_group  \n",
      "0                      1                       0    too young  \n",
      "1                      0                       0  young adult  \n",
      "2                      1                       0        young  \n",
      "3                      0                       0          old  \n",
      "4                      0                       0      too old  \n"
     ]
    }
   ],
   "source": [
    "data['age_group'] = 2021-data.birth_year\n",
    "\n",
    "def groups(item):\n",
    "        if item <= 20: \n",
    "            return 'too young'\n",
    "        elif item in range(21, 31):\n",
    "            return 'young'\n",
    "        elif item in range(31,41):\n",
    "            return 'young adult'\n",
    "        elif item in range(41, 51):\n",
    "            return 'adult'\n",
    "        elif item in range(51,61):\n",
    "            return 'old'\n",
    "        elif item >= 61:\n",
    "            return 'too old'\n",
    "data.age_group= data.age_group.apply(groups)\n",
    "print(data.head())\n",
    "        \n",
    "                                                    \n",
    "                        "
   ]
  },
  {
   "cell_type": "markdown",
   "metadata": {},
   "source": [
    "### Categorizing age-group"
   ]
  },
  {
   "cell_type": "code",
   "execution_count": 67,
   "metadata": {},
   "outputs": [
    {
     "name": "stdout",
     "output_type": "stream",
     "text": [
      "['too young', 'young adult', 'young', 'old', 'too old', 'adult']\n",
      "Categories (6, object): ['too young' < 'young' < 'young adult' < 'adult' < 'old' < 'too old']\n"
     ]
    }
   ],
   "source": [
    "data.age_group = pd.Categorical(data.age_group, ['too young', 'young', 'young adult', 'adult', 'old', 'too old'], ordered = True)\n",
    "print(data.age_group.unique())"
   ]
  },
  {
   "cell_type": "markdown",
   "metadata": {},
   "source": [
    "### One-Hot Encode to age_group variable"
   ]
  },
  {
   "cell_type": "code",
   "execution_count": 69,
   "metadata": {},
   "outputs": [
    {
     "name": "stdout",
     "output_type": "stream",
     "text": [
      "   Unnamed: 0 first_name  last_name  birth_year  voted  num_children  \\\n",
      "0           0     Denise      Ratke        2005  False             0   \n",
      "1           1       Hali  Cummerata        1987  False             0   \n",
      "2           2    Salomon        Orn        1992   True             2   \n",
      "3           3     Sarina   Schiller        1965  False             2   \n",
      "4           4       Gust  Abernathy        1945  False             2   \n",
      "\n",
      "   income_year  higher_tax  marital_status_divorced  marital_status_married  \\\n",
      "0     92129.41           1                        0                       0   \n",
      "1     75649.17           2                        1                       0   \n",
      "2    166313.45           3                        0                       0   \n",
      "3     71704.81           4                        0                       1   \n",
      "4    143316.08           3                        0                       1   \n",
      "\n",
      "   marital_status_single  marital_status_widowed  age_group_too young  \\\n",
      "0                      1                       0                    1   \n",
      "1                      0                       0                    0   \n",
      "2                      1                       0                    0   \n",
      "3                      0                       0                    0   \n",
      "4                      0                       0                    0   \n",
      "\n",
      "   age_group_young  age_group_young adult  age_group_adult  age_group_old  \\\n",
      "0                0                      0                0              0   \n",
      "1                0                      1                0              0   \n",
      "2                1                      0                0              0   \n",
      "3                0                      0                0              1   \n",
      "4                0                      0                0              0   \n",
      "\n",
      "   age_group_too old  \n",
      "0                  0  \n",
      "1                  0  \n",
      "2                  0  \n",
      "3                  0  \n",
      "4                  1  \n"
     ]
    }
   ],
   "source": [
    "data =pd.get_dummies(data, columns = ['age_group'])\n",
    "print(data.head())"
   ]
  }
 ],
 "metadata": {
  "kernelspec": {
   "display_name": "Python 3",
   "language": "python",
   "name": "python3"
  },
  "language_info": {
   "codemirror_mode": {
    "name": "ipython",
    "version": 3
   },
   "file_extension": ".py",
   "mimetype": "text/x-python",
   "name": "python",
   "nbconvert_exporter": "python",
   "pygments_lexer": "ipython3",
   "version": "3.8.5"
  }
 },
 "nbformat": 4,
 "nbformat_minor": 4
}
