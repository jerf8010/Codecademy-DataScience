{
 "cells": [
  {
   "cell_type": "markdown",
   "metadata": {},
   "source": [
    "# JEOPARDY"
   ]
  },
  {
   "cell_type": "markdown",
   "metadata": {},
   "source": [
    "## Reading datas"
   ]
  },
  {
   "cell_type": "code",
   "execution_count": 2,
   "metadata": {},
   "outputs": [],
   "source": [
    "import pandas as pd\n",
    "jeopardy = pd.read_csv('jeopardy.csv')"
   ]
  },
  {
   "cell_type": "markdown",
   "metadata": {},
   "source": [
    "## Ptinting data"
   ]
  },
  {
   "cell_type": "code",
   "execution_count": 3,
   "metadata": {},
   "outputs": [
    {
     "name": "stdout",
     "output_type": "stream",
     "text": [
      "        Show Number    Air Date             Round  \\\n",
      "0              4680  2004-12-31         Jeopardy!   \n",
      "1              4680  2004-12-31         Jeopardy!   \n",
      "2              4680  2004-12-31         Jeopardy!   \n",
      "3              4680  2004-12-31         Jeopardy!   \n",
      "4              4680  2004-12-31         Jeopardy!   \n",
      "...             ...         ...               ...   \n",
      "216925         4999  2006-05-11  Double Jeopardy!   \n",
      "216926         4999  2006-05-11  Double Jeopardy!   \n",
      "216927         4999  2006-05-11  Double Jeopardy!   \n",
      "216928         4999  2006-05-11  Double Jeopardy!   \n",
      "216929         4999  2006-05-11   Final Jeopardy!   \n",
      "\n",
      "                               Category  Value  \\\n",
      "0                               HISTORY   $200   \n",
      "1       ESPN's TOP 10 ALL-TIME ATHLETES   $200   \n",
      "2           EVERYBODY TALKS ABOUT IT...   $200   \n",
      "3                      THE COMPANY LINE   $200   \n",
      "4                   EPITAPHS & TRIBUTES   $200   \n",
      "...                                 ...    ...   \n",
      "216925                   RIDDLE ME THIS  $2000   \n",
      "216926                        \"T\" BIRDS  $2000   \n",
      "216927           AUTHORS IN THEIR YOUTH  $2000   \n",
      "216928                       QUOTATIONS  $2000   \n",
      "216929                   HISTORIC NAMES   None   \n",
      "\n",
      "                                                 Question  \\\n",
      "0       For the last 8 years of his life, Galileo was ...   \n",
      "1       No. 2: 1912 Olympian; football star at Carlisl...   \n",
      "2       The city of Yuma in this state has a record av...   \n",
      "3       In 1963, live on \"The Art Linkletter Show\", th...   \n",
      "4       Signer of the Dec. of Indep., framer of the Co...   \n",
      "...                                                   ...   \n",
      "216925  This Puccini opera turns on the solution to 3 ...   \n",
      "216926  In North America this term is properly applied...   \n",
      "216927  In Penny Lane, where this \"Hellraiser\" grew up...   \n",
      "216928  From Ft. Sill, Okla. he made the plea, Arizona...   \n",
      "216929  A silent movie title includes the last name of...   \n",
      "\n",
      "                                Answer  \n",
      "0                           Copernicus  \n",
      "1                           Jim Thorpe  \n",
      "2                              Arizona  \n",
      "3                           McDonald's  \n",
      "4                           John Adams  \n",
      "...                                ...  \n",
      "216925                        Turandot  \n",
      "216926                      a titmouse  \n",
      "216927                    Clive Barker  \n",
      "216928                        Geronimo  \n",
      "216929  Grigori Alexandrovich Potemkin  \n",
      "\n",
      "[216930 rows x 7 columns]\n"
     ]
    }
   ],
   "source": [
    "print(jeopardy)\n"
   ]
  },
  {
   "cell_type": "markdown",
   "metadata": {},
   "source": [
    "## Columns names"
   ]
  },
  {
   "cell_type": "code",
   "execution_count": 13,
   "metadata": {},
   "outputs": [
    {
     "name": "stdout",
     "output_type": "stream",
     "text": [
      "Index(['Show Number', ' Air Date', ' Round', ' Category', ' Value',\n",
      "       ' Question', ' Answer'],\n",
      "      dtype='object')\n"
     ]
    }
   ],
   "source": [
    "columns  = jeopardy.columns\n",
    "print(columns)"
   ]
  },
  {
   "cell_type": "markdown",
   "metadata": {},
   "source": [
    "## Filtering the data function"
   ]
  },
  {
   "cell_type": "code",
   "execution_count": 28,
   "metadata": {},
   "outputs": [
    {
     "name": "stdout",
     "output_type": "stream",
     "text": [
      "        Show Number    Air Date             Round                    Category  \\\n",
      "34      4680         2004-12-31  Double Jeopardy!  \"X\"s & \"O\"s                  \n",
      "40      4680         2004-12-31  Double Jeopardy!  DR. SEUSS AT THE MULTIPLEX   \n",
      "50      4680         2004-12-31  Double Jeopardy!  DR. SEUSS AT THE MULTIPLEX   \n",
      "56      5957         2010-07-06  Jeopardy!         GEOGRAPHY \"E\"                \n",
      "72      5957         2010-07-06  Jeopardy!         LET'S BOUNCE                 \n",
      "...      ...                ...        ...                  ...                 \n",
      "216744  6044         2010-12-16  Double Jeopardy!  YOUR MOMMA!                  \n",
      "216758  5070         2006-09-29  Jeopardy!         SIGNING OFF                  \n",
      "216789  5070         2006-09-29  Double Jeopardy!  ANCIENT HISTORY              \n",
      "216856  5195         2007-03-23  Double Jeopardy!  HAIL TO THE CHEF             \n",
      "216916  4999         2006-05-11  Double Jeopardy!  QUOTATIONS                   \n",
      "\n",
      "         Value  \\\n",
      "34      $400     \n",
      "40      $1200    \n",
      "50      $2000    \n",
      "56      $200     \n",
      "72      $600     \n",
      "...      ...     \n",
      "216744  $2000    \n",
      "216758  $400     \n",
      "216789  $1200    \n",
      "216856  $1600    \n",
      "216916  $2,200   \n",
      "\n",
      "                                                                                                                                                                                 Question  \\\n",
      "34      Around 100 A.D. Tacitus wrote a book on how this art of persuasive speaking had declined since Cicero                                                                               \n",
      "40      <a href=\"http://www.j-archive.com/media/2004-12-31_DJ_26.mp3\">Ripped from today's headlines, he was a turtle king gone mad; Mack was the one good turtle who'd bring him down</a>   \n",
      "50      <a href=\"http://www.j-archive.com/media/2004-12-31_DJ_24.mp3\">\"500 Hats\"... 500 ways to die.  On July 4th, this young boy will defy a king... & become a legend</a>                 \n",
      "56      It's the largest kingdom in the United Kingdom                                                                                                                                      \n",
      "72      In this kid's game, you bounce a small rubber ball while picking up 6-pronged metal objects                                                                                         \n",
      "...                                                                                             ...                                                                                         \n",
      "216744  French kings Francis II, Charles IX & Henry III                                                                                                                                     \n",
      "216758  As head of the union in 1964, he signed the first nationwide trucking contract in Teamster history                                                                                  \n",
      "216789  This kingdom of England grew from 2 settlements, one founded around 495 by Cerdic & his son Cynric                                                                                  \n",
      "216856  You can cook like <a href=\"http://www.j-archive.com/media/2007-03-23_DJ_24.jpg\" target=\"_blank\">this</a> man who wrote \"The Joy of Wokking\"                                         \n",
      "216916  Oscar Wilde called this 4-letter word \"the curse of the drinking classes\"                                                                                                           \n",
      "\n",
      "                     Answer  \n",
      "34      oratory              \n",
      "40      Yertle               \n",
      "50      Bartholomew Cubbins  \n",
      "56      England              \n",
      "72      jacks                \n",
      "...       ...                \n",
      "216744  Catherine de Medici  \n",
      "216758  Jimmy Hoffa          \n",
      "216789  Wessex               \n",
      "216856  (Martin) Yan         \n",
      "216916  work                 \n",
      "\n",
      "[5927 rows x 7 columns]\n"
     ]
    }
   ],
   "source": [
    "def jeopardy_filter(lista):\n",
    "    new = jeopardy[(jeopardy[' Question'].str.contains(lista[0])) & (jeopardy[' Question'].str.contains(lista[1])) | (jeopardy[' Question'].str.contains(lista[0].lower())) | (jeopardy[' Question'].str.contains(lista[1].lower()))]\n",
    "    return new\n",
    "print(jeopardy_filter(['King', 'England']))\n"
   ]
  },
  {
   "cell_type": "markdown",
   "metadata": {},
   "source": [
    "## Converting to float, value column"
   ]
  },
  {
   "cell_type": "code",
   "execution_count": 5,
   "metadata": {},
   "outputs": [
    {
     "name": "stdout",
     "output_type": "stream",
     "text": [
      "0          200.0\n",
      "1          200.0\n",
      "2          200.0\n",
      "3          200.0\n",
      "4          200.0\n",
      "           ...  \n",
      "216925    2000.0\n",
      "216926    2000.0\n",
      "216927    2000.0\n",
      "216928    2000.0\n",
      "216929       0.0\n",
      "Name:  Value_in_float, Length: 216930, dtype: float64\n"
     ]
    }
   ],
   "source": [
    "jeopardy[' Value_in_float'] = jeopardy[' Value'].apply(lambda row: \\\n",
    "                                        float(row[1:].replace(',','')) if row != 'None' else 0)\n",
    "print(jeopardy[' Value_in_float'])"
   ]
  },
  {
   "cell_type": "markdown",
   "metadata": {},
   "source": [
    "## Average value per word in question"
   ]
  },
  {
   "cell_type": "code",
   "execution_count": 6,
   "metadata": {},
   "outputs": [
    {
     "name": "stdout",
     "output_type": "stream",
     "text": [
      "Introduce a word: king\n",
      "The average value for question with king in it is 806.86\n"
     ]
    }
   ],
   "source": [
    "def aver_per_question(word):\n",
    "    word1= ' '+word+' '\n",
    "    n = jeopardy[(jeopardy[' Question'].str.contains(word1)) | (jeopardy[' Question'].str.contains(word1.lower())) ]\n",
    "    average = n[' Value_in_float'].mean()\n",
    "    return average\n",
    "\n",
    "word = input('Introduce a word: ')\n",
    "print('The average value for question with {} in it is {}'.format(word, round(aver_per_question('King'), 2)))"
   ]
  },
  {
   "cell_type": "markdown",
   "metadata": {},
   "source": [
    "## Count of unique answer to questions with a specific word"
   ]
  },
  {
   "cell_type": "code",
   "execution_count": 129,
   "metadata": {},
   "outputs": [
    {
     "name": "stdout",
     "output_type": "stream",
     "text": [
      "Introduce a word: king\n",
      "Answers appear this many timesfor questions with king \n",
      "Henry VIII                    30\n",
      "Richard III                   19\n",
      "Solomon                       16\n",
      "Charles I                     14\n",
      "Norway                        13\n",
      "                              ..\n",
      "\"Richard III\"                 1 \n",
      "Ludwig II of Bavaria          1 \n",
      "The Little Prince of Wales    1 \n",
      "Oliver Cromwell               1 \n",
      "the Spanish Armada            1 \n",
      "Name:  Answer, Length: 491, dtype: int64\n"
     ]
    }
   ],
   "source": [
    "def count_uniq(word):\n",
    "    word1= ' '+word+' '\n",
    "    n = jeopardy[(jeopardy[' Question'].str.contains(word1)) | (jeopardy[' Question'].str.contains(word1.lower())) ]\n",
    "    m = n[' Answer'].value_counts()\n",
    "    return m\n",
    "\n",
    "word = input('Introduce a word: ')\n",
    "print('Answers appear this many timesfor questions with {} '.format(word))\n",
    "print(count_uniq(word))"
   ]
  },
  {
   "cell_type": "markdown",
   "metadata": {},
   "source": [
    "## How many questions use the word for a specific year?\n"
   ]
  },
  {
   "cell_type": "code",
   "execution_count": 188,
   "metadata": {},
   "outputs": [
    {
     "name": "stdout",
     "output_type": "stream",
     "text": [
      "Introduce a word: computer\n",
      "Introduce a year: 2000\n",
      "Introduce other year: 1990\n",
      "18\n",
      "2\n",
      "The word computer appear 18 times in questions in the year 2000, and appear 2 times in questions in the year 1990 \n"
     ]
    }
   ],
   "source": [
    "word = input(\"Introduce a word: \")\n",
    "year1 = input(\"Introduce a year: \")\n",
    "year2 = input(\"Introduce other year: \")\n",
    "\n",
    "word1= ' '+word+' '\n",
    "n = jeopardy[(jeopardy[' Question'].str.contains(word1)) | (jeopardy[' Question'].str.contains(word1.lower())) ]\n",
    "m1 = list(n[' Air Date'].apply(lambda row:\\\n",
    "                          row if row[:4] == str(year1) else 0))\n",
    "m2 = list(n[' Air Date'].apply(lambda row:\\\n",
    "                          row if row[:4] == str(year2) else 0))\n",
    "\n",
    "count = 0\n",
    "for i in range(len(m1)):\n",
    "    if m1[i] != 0:\n",
    "        count += 1\n",
    "        \n",
    "print(count)\n",
    "count1 = 0\n",
    "for i in range(len(m2)):\n",
    "    if m2[i] != 0:\n",
    "        count1 += 1\n",
    "print(count1)\n",
    "print(\"The word {} appear {} times in questions in the year {}, and appear {} times in questions in the year {} \".format(word, count, year1, count1, year2))\n"
   ]
  },
  {
   "cell_type": "markdown",
   "metadata": {},
   "source": [
    "## Playing Jeopardy"
   ]
  },
  {
   "cell_type": "code",
   "execution_count": 218,
   "metadata": {},
   "outputs": [
    {
     "name": "stdout",
     "output_type": "stream",
     "text": [
      "Introduce a number of question: 60\n",
      "The question is: \n",
      " This verb for bouncing a basketball sounds like you're slobbering\n",
      "Introduce your answer: 3\n",
      "You've failed!!! The answer is: dribbling\n"
     ]
    }
   ],
   "source": [
    "quest = int(input(\"Introduce a number of question: \"))\n",
    "\n",
    "quest_list = list(jeopardy[' Question'])\n",
    "answers = list(jeopardy[' Answer'])\n",
    "\n",
    "print(\"The question is: \\n {}\".format(quest_list[quest]))\n",
    "answer = input(\"Introduce your answer: \")\n",
    "if (answer.lower() in answers[quest].lower()) == True:\n",
    "    print(\"You're alright!!!!\")\n",
    "else:\n",
    "    print(\"You've failed!!! The answer is: {}\".format(answers[quest]))\n"
   ]
  }
 ],
 "metadata": {
  "kernelspec": {
   "display_name": "Python 3",
   "language": "python",
   "name": "python3"
  },
  "language_info": {
   "codemirror_mode": {
    "name": "ipython",
    "version": 3
   },
   "file_extension": ".py",
   "mimetype": "text/x-python",
   "name": "python",
   "nbconvert_exporter": "python",
   "pygments_lexer": "ipython3",
   "version": "3.7.1"
  }
 },
 "nbformat": 4,
 "nbformat_minor": 4
}
