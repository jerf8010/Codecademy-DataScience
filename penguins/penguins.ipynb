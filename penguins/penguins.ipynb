{
 "cells": [
  {
   "cell_type": "markdown",
   "metadata": {},
   "source": [
    "# Penguins"
   ]
  },
  {
   "cell_type": "code",
   "execution_count": 2,
   "metadata": {},
   "outputs": [],
   "source": [
    "import pandas as pd\n",
    "import numpy as np\n",
    "import matplotlib.pyplot as plt\n",
    "from scipy.stats import pearsonr\n",
    "import seaborn as sns"
   ]
  },
  {
   "cell_type": "code",
   "execution_count": 3,
   "metadata": {},
   "outputs": [
    {
     "name": "stdout",
     "output_type": "stream",
     "text": [
      "       species  bill_length_mm  bill_depth_mm  flipper_length_mm  body_mass_g  \\\n",
      "0       Adelie            39.1           18.7              181.0       3750.0   \n",
      "1       Adelie            39.5           17.4              186.0       3800.0   \n",
      "2       Adelie            40.3           18.0              195.0       3250.0   \n",
      "3       Adelie            36.7           19.3              193.0       3450.0   \n",
      "4       Adelie            39.3           20.6              190.0       3650.0   \n",
      "..         ...             ...            ...                ...          ...   \n",
      "328  Chinstrap            55.8           19.8              207.0       4000.0   \n",
      "329  Chinstrap            43.5           18.1              202.0       3400.0   \n",
      "330  Chinstrap            49.6           18.2              193.0       3775.0   \n",
      "331  Chinstrap            50.8           19.0              210.0       4100.0   \n",
      "332  Chinstrap            50.2           18.7              198.0       3775.0   \n",
      "\n",
      "        sex  \n",
      "0      male  \n",
      "1    female  \n",
      "2    female  \n",
      "3    female  \n",
      "4      male  \n",
      "..      ...  \n",
      "328    male  \n",
      "329  female  \n",
      "330    male  \n",
      "331    male  \n",
      "332  female  \n",
      "\n",
      "[333 rows x 6 columns]\n"
     ]
    }
   ],
   "source": [
    "penguins = pd.read_csv('penguins.csv')\n",
    "print(penguins)"
   ]
  },
  {
   "cell_type": "code",
   "execution_count": 4,
   "metadata": {},
   "outputs": [
    {
     "data": {
      "image/png": "[encoded data removed]",
      "text/plain": [
       "<Figure size 432x288 with 1 Axes>"
      ]
     },
     "metadata": {
      "needs_background": "light"
     },
     "output_type": "display_data"
    }
   ],
   "source": [
    "plt.scatter(penguins.flipper_length_mm, penguins.body_mass_g)\n",
    "plt.show()"
   ]
  },
  {
   "cell_type": "code",
   "execution_count": 5,
   "metadata": {},
   "outputs": [
    {
     "data": {
      "text/plain": [
       "array([[1.96441677e+02, 9.85219165e+03],\n",
       "       [9.85219165e+03, 6.48372488e+05]])"
      ]
     },
     "execution_count": 5,
     "metadata": {},
     "output_type": "execute_result"
    }
   ],
   "source": [
    "np.cov(penguins.flipper_length_mm, penguins.body_mass_g)"
   ]
  },
  {
   "cell_type": "code",
   "execution_count": 6,
   "metadata": {},
   "outputs": [
    {
     "name": "stdout",
     "output_type": "stream",
     "text": [
      "0.8729788985653619\n"
     ]
    }
   ],
   "source": [
    "corr, p =pearsonr(penguins.flipper_length_mm, penguins.body_mass_g)\n",
    "print(corr)"
   ]
  },
  {
   "cell_type": "markdown",
   "metadata": {},
   "source": [
    "## Normal Equation"
   ]
  },
  {
   "cell_type": "code",
   "execution_count": 11,
   "metadata": {},
   "outputs": [
    {
     "name": "stdout",
     "output_type": "stream",
     "text": [
      "0      181.0\n",
      "1      186.0\n",
      "2      195.0\n",
      "3      193.0\n",
      "4      190.0\n",
      "       ...  \n",
      "328    207.0\n",
      "329    202.0\n",
      "330    193.0\n",
      "331    210.0\n",
      "332    198.0\n",
      "Name: flipper_length_mm, Length: 333, dtype: float64\n"
     ]
    }
   ],
   "source": [
    "print(penguins.flipper_length_mm)"
   ]
  },
  {
   "cell_type": "code",
   "execution_count": 20,
   "metadata": {},
   "outputs": [],
   "source": [
    "ones1 = np.ones(len(penguins.flipper_length_mm))\n",
    "X = np.transpose(np.matrix([ones1, penguins.flipper_length_mm]))\n",
    "y = np.transpose(np.matrix(penguins.body_mass_g))\n"
   ]
  },
  {
   "cell_type": "code",
   "execution_count": 21,
   "metadata": {},
   "outputs": [
    {
     "name": "stdout",
     "output_type": "stream",
     "text": [
      "[[-5872.09268284]\n",
      " [   50.15326594]]\n"
     ]
    }
   ],
   "source": [
    "\n",
    "def theta(X,y):\n",
    "    theta = np.linalg.inv(np.transpose(X) * X) * np.transpose(X) * y\n",
    "    return theta\n",
    "\n",
    "theta_1 = theta(X,y)\n",
    "print(theta(X,y))"
   ]
  },
  {
   "cell_type": "code",
   "execution_count": 22,
   "metadata": {},
   "outputs": [],
   "source": [
    "def predicting(theta_0, theta_1, prod):\n",
    "    y = theta_0 + theta_1 * prod\n",
    "    return y\n"
   ]
  },
  {
   "cell_type": "code",
   "execution_count": 24,
   "metadata": {},
   "outputs": [
    {
     "name": "stdout",
     "output_type": "stream",
     "text": [
      "Introduce el tamaño: 181.0\n",
      "Tu su masa corporal debe ser 3205.6484527028233\n"
     ]
    }
   ],
   "source": [
    "prod = float(input(\"Introduce el tamaño: \"))\n",
    "print(\"Tu su masa corporal debe ser {}\".format(predicting(theta_1[0,0], theta_1[1,0], prod)))\n"
   ]
  },
  {
   "cell_type": "code",
   "execution_count": 26,
   "metadata": {},
   "outputs": [
    {
     "data": {
      "image/png": "[encoded data removed]",
      "text/plain": [
       "<Figure size 432x288 with 1 Axes>"
      ]
     },
     "metadata": {
      "needs_background": "light"
     },
     "output_type": "display_data"
    }
   ],
   "source": [
    "plt.clf()\n",
    "plt.scatter(penguins.flipper_length_mm, penguins.body_mass_g)\n",
    "plt.plot(penguins.flipper_length_mm, [theta_1[0,0] + theta_1[1,0] * item for item in penguins.flipper_length_mm], color ='red')\n",
    "plt.show()"
   ]
  },
  {
   "cell_type": "markdown",
   "metadata": {},
   "source": [
    "### Species"
   ]
  },
  {
   "cell_type": "code",
   "execution_count": 27,
   "metadata": {},
   "outputs": [
    {
     "name": "stdout",
     "output_type": "stream",
     "text": [
      "['Adelie' 'Gentoo' 'Chinstrap']\n"
     ]
    }
   ],
   "source": [
    "print(penguins.species.unique())"
   ]
  },
  {
   "cell_type": "code",
   "execution_count": 32,
   "metadata": {},
   "outputs": [
    {
     "data": {
      "image/png": "[encoded data removed]",
      "text/plain": [
       "<Figure size 432x288 with 1 Axes>"
      ]
     },
     "metadata": {
      "needs_background": "light"
     },
     "output_type": "display_data"
    }
   ],
   "source": [
    "sns.countplot(x = 'species', data = penguins)\n",
    "plt.show()"
   ]
  },
  {
   "cell_type": "markdown",
   "metadata": {},
   "source": [
    "### Sex"
   ]
  },
  {
   "cell_type": "code",
   "execution_count": 31,
   "metadata": {},
   "outputs": [
    {
     "name": "stdout",
     "output_type": "stream",
     "text": [
      "['male' 'female']\n"
     ]
    }
   ],
   "source": [
    "print(penguins.sex.unique())"
   ]
  },
  {
   "cell_type": "code",
   "execution_count": 33,
   "metadata": {},
   "outputs": [
    {
     "data": {
      "image/png": "[encoded data removed]",
      "text/plain": [
       "<Figure size 432x288 with 1 Axes>"
      ]
     },
     "metadata": {
      "needs_background": "light"
     },
     "output_type": "display_data"
    }
   ],
   "source": [
    "sns.countplot(x = 'sex', data = penguins)\n",
    "plt.show()"
   ]
  },
  {
   "cell_type": "markdown",
   "metadata": {},
   "source": [
    "### length and body mass for men"
   ]
  },
  {
   "cell_type": "code",
   "execution_count": 38,
   "metadata": {},
   "outputs": [
    {
     "data": {
      "image/png": "[encoded data removed]",
      "text/plain": [
       "<Figure size 432x288 with 1 Axes>"
      ]
     },
     "metadata": {
      "needs_background": "light"
     },
     "output_type": "display_data"
    }
   ],
   "source": [
    "sns.boxplot(data = penguins, x = 'species', y = 'flipper_length_mm')\n",
    "plt.show()"
   ]
  },
  {
   "cell_type": "code",
   "execution_count": 39,
   "metadata": {},
   "outputs": [
    {
     "data": {
      "image/png": "[encoded data removed]",
      "text/plain": [
       "<Figure size 432x288 with 1 Axes>"
      ]
     },
     "metadata": {
      "needs_background": "light"
     },
     "output_type": "display_data"
    }
   ],
   "source": [
    "sns.boxplot(data = penguins, x = 'species', y = 'body_mass_g')\n",
    "plt.show()"
   ]
  },
  {
   "cell_type": "code",
   "execution_count": 45,
   "metadata": {},
   "outputs": [],
   "source": [
    "sp_g = penguins.flipper_length_mm[penguins.species == 'Gentoo']\n",
    "sp_a = penguins.flipper_length_mm[penguins.species == 'Adelie']\n",
    "sp_c = penguins.flipper_length_mm[penguins.species == 'Chinstrap']"
   ]
  },
  {
   "cell_type": "code",
   "execution_count": 46,
   "metadata": {},
   "outputs": [
    {
     "data": {
      "image/png": "[encoded data removed]",
      "text/plain": [
       "<Figure size 432x288 with 1 Axes>"
      ]
     },
     "metadata": {
      "needs_background": "light"
     },
     "output_type": "display_data"
    }
   ],
   "source": [
    "plt.hist(sp_g, alpha = 0.8, color = 'orange', label = 'Gentoo')\n",
    "plt.hist(sp_a, alpha = 0.6, color = 'blue', label = 'Adeline')\n",
    "plt.hist(sp_c, alpha = 0.4, color = 'green', label = 'Chinstrap')\n",
    "plt.legend()\n",
    "plt.show()"
   ]
  },
  {
   "cell_type": "markdown",
   "metadata": {},
   "source": [
    "### Male Species"
   ]
  },
  {
   "cell_type": "code",
   "execution_count": 57,
   "metadata": {},
   "outputs": [
    {
     "name": "stdout",
     "output_type": "stream",
     "text": [
      "       species\n",
      "0       Adelie\n",
      "4       Adelie\n",
      "6       Adelie\n",
      "8       Adelie\n",
      "9       Adelie\n",
      "..         ...\n",
      "323  Chinstrap\n",
      "325  Chinstrap\n",
      "328  Chinstrap\n",
      "330  Chinstrap\n",
      "331  Chinstrap\n",
      "\n",
      "[168 rows x 1 columns]\n"
     ]
    }
   ],
   "source": [
    "spe_men = pd.DataFrame(penguins.species[penguins.sex == 'male'], columns = ['species'])\n",
    "print(spe_men)"
   ]
  },
  {
   "cell_type": "code",
   "execution_count": 58,
   "metadata": {},
   "outputs": [
    {
     "data": {
      "image/png": "[encoded data removed]",
      "text/plain": [
       "<Figure size 432x288 with 1 Axes>"
      ]
     },
     "metadata": {
      "needs_background": "light"
     },
     "output_type": "display_data"
    }
   ],
   "source": [
    "sns.countplot(x = 'species', data = spe_men)\n",
    "plt.show()"
   ]
  },
  {
   "cell_type": "markdown",
   "metadata": {},
   "source": [
    "### Female Species"
   ]
  },
  {
   "cell_type": "code",
   "execution_count": 60,
   "metadata": {},
   "outputs": [
    {
     "name": "stdout",
     "output_type": "stream",
     "text": [
      "       species\n",
      "1       Adelie\n",
      "2       Adelie\n",
      "3       Adelie\n",
      "5       Adelie\n",
      "7       Adelie\n",
      "..         ...\n",
      "324  Chinstrap\n",
      "326  Chinstrap\n",
      "327  Chinstrap\n",
      "329  Chinstrap\n",
      "332  Chinstrap\n",
      "\n",
      "[165 rows x 1 columns]\n"
     ]
    }
   ],
   "source": [
    "spe_f = pd.DataFrame(penguins.species[penguins.sex == 'female'], columns = ['species'])\n",
    "print(spe_f)"
   ]
  },
  {
   "cell_type": "code",
   "execution_count": 61,
   "metadata": {},
   "outputs": [
    {
     "data": {
      "image/png": "[encoded data removed]",
      "text/plain": [
       "<Figure size 432x288 with 1 Axes>"
      ]
     },
     "metadata": {
      "needs_background": "light"
     },
     "output_type": "display_data"
    }
   ],
   "source": [
    "sns.countplot(x = 'species', data = spe_f)\n",
    "plt.show()"
   ]
  }
 ],
 "metadata": {
  "kernelspec": {
   "display_name": "Python 3",
   "language": "python",
   "name": "python3"
  },
  "language_info": {
   "codemirror_mode": {
    "name": "ipython",
    "version": 3
   },
   "file_extension": ".py",
   "mimetype": "text/x-python",
   "name": "python",
   "nbconvert_exporter": "python",
   "pygments_lexer": "ipython3",
   "version": "3.8.5"
  }
 },
 "nbformat": 4,
 "nbformat_minor": 4
}
